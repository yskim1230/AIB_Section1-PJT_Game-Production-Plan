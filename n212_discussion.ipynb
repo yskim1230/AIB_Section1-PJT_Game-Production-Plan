{
  "cells": [
    {
      "cell_type": "markdown",
      "metadata": {
        "id": "view-in-github",
        "colab_type": "text"
      },
      "source": [
        "<a href=\"https://colab.research.google.com/github/yskim1230/AIB_Section1-PJT_Game-Production-Plan/blob/main/n212_discussion.ipynb\" target=\"_parent\"><img src=\"https://colab.research.google.com/assets/colab-badge.svg\" alt=\"Open In Colab\"/></a>"
      ]
    },
    {
      "cell_type": "markdown",
      "metadata": {
        "id": "ZRl89zRamhfN"
      },
      "source": [
        "# **N212 Generalization**\n",
        "\n",
        "## 오늘의 목표\n",
        "- 데이터를 학습/검증/테스트셋으로 분리할 수 있습니다.\n",
        "- 다항 선형회귀 모델에서 최적의 차수를 찾을 수 있습니다.\n",
        "- 다중 선형회귀 모델과 다항 선형회귀 모델의 결과를 비교할 수 있습니다.\n",
        "- 테스트셋을 활용해 모델의 일반화 성능을 평가할 수 있습니다."
      ]
    },
    {
      "cell_type": "markdown",
      "source": [
        "## **개념 Topic**\n",
        "> 오늘은 일반화에 대해서 배웠습니다.\n",
        "\n",
        "- 다음은 일반화 성능을 높이기 위한 몇 가지 방법입니다.\n",
        "  - 아래 방법은 어떤 문제(과적합/과소적합)를 해결할 수 있는지 설명해 보세요.\n",
        "  - 왜 그러한지 분산과 편향의 관점에서 설명해 보세요.\n",
        "    ```markdown\n",
        "    1. 학습 데이터를 추가한다.\n",
        "    2. 특성의 수를 줄인다.\n",
        "    3. 특성의 수를 늘린다.\n",
        "    4. 차수가 높은 특성을 늘린다.\n",
        "    ```\n",
        "    - 2. 특성의 수를 줄인다. → 집의 크기, 방의 개수, 연식 등의 feature 수를 줄이는 것\n",
        "    - 4. 차수가 높은 특성을 늘린다. → 다항회귀에서 차수를 높이면 차수가 높은 특성이 추가되는 것 \n",
        "\n",
        "\\begin{align}\n",
        "y = \\beta + \\beta_1x + \\beta_2x^2 + \\beta_3x^3 + \\cdots\n",
        "\\end{align}\n",
        "\n",
        "- **Discussion** 표의 `정리` 탭에 답변을 정리하여 적어 주세요. "
      ],
      "metadata": {
        "id": "3SzWbthovoZu"
      }
    },
    {
      "cell_type": "markdown",
      "source": [
        "1. 학습 데이터 추가 = 과적합 이슈를 해결하기 위함\n",
        "2. 특성 수를 줄인다 = 과적합 이슈를 해결하기 위함  \n",
        "3. 특성 수를 늘린다 = 과소적합 이슈를 해결하기 위함\n",
        "4. 차수가 높은 특성을 늘린다 = 과소적합 이슈를 해결하기 위함\n",
        "\n",
        "모델 복잡도↑ → 분산↑ → 과적합 가능성↑ 이고,\n",
        "\n",
        "모델 복잡도↓ → 편향↑ → 과소적합 가능성↑\n",
        "\n"
      ],
      "metadata": {
        "id": "FjU2N7mpmjvT"
      }
    },
    {
      "cell_type": "markdown",
      "source": [
        "## **코딩 Topic**"
      ],
      "metadata": {
        "id": "Bgt2vgxRxPhu"
      }
    },
    {
      "cell_type": "markdown",
      "source": [
        "### **Part.1 : 데이터 준비**\n",
        "\n",
        "지난 노트에서도 사용했던 인도의 한 도시인 [Begaluru의 집값 데이터](https://www.kaggle.com/datasets/amitabhajoy/bengaluru-house-price-data)를 사용해서 집값을 예측하는 회귀 문제를 풀어보겠습니다.\n",
        "\n",
        "> **Data Description**\n",
        "\n",
        "- Area_type : Description of the area\n",
        "- Availability : When it can be possessed or when it is ready\n",
        "- Location : Where it is located in Bengaluru\n",
        "- Size : BHK or Bedrooms\n",
        "- Society : To which society it belongs\n",
        "- Total_sqft : Size of the property in sq.ft\n",
        "- Bath : No. of Bathrooms\n",
        "- Balcony : No. of the Balcony\n",
        "- Price : Value of the property in lakhs (Indian Rupee - ₹)\n"
      ],
      "metadata": {
        "id": "LUZv5HXcYsvk"
      }
    },
    {
      "cell_type": "markdown",
      "metadata": {
        "id": "JVt_j5szh0YM"
      },
      "source": [
        "#### **1-1. 데이터셋 로딩 및 가공**\n",
        "- 지난 노트에서 사용한 데이터를 불러옵니다.\n",
        "- 지난 디스커션과 같은 방법으로 4개의 특성 선택, 결측치 및 중복값 처리, `total_sqft` 변수의 타입 변환을 수행해보세요."
      ]
    },
    {
      "cell_type": "code",
      "source": [
        "import pandas as pd\n",
        "data = pd.read_csv('https://ds-lecture-data.s3.ap-northeast-2.amazonaws.com/renewal/mldl/House_Data.csv')\n",
        "display(data.head())\n",
        "# 4개특성 선택\n",
        "df=data[['total_sqft', 'bath', 'balcony', 'price']]\n",
        "df.info()\n"
      ],
      "metadata": {
        "id": "knXVAcymaPPi",
        "colab": {
          "base_uri": "https://localhost:8080/",
          "height": 397
        },
        "outputId": "be880e1b-a3f7-489d-c4f3-6f2ab580c927"
      },
      "execution_count": 30,
      "outputs": [
        {
          "output_type": "display_data",
          "data": {
            "text/plain": [
              "              area_type   availability                  location       size  \\\n",
              "0  Super built-up  Area         19-Dec  Electronic City Phase II      2 BHK   \n",
              "1            Plot  Area  Ready To Move          Chikka Tirupathi  4 Bedroom   \n",
              "2        Built-up  Area  Ready To Move               Uttarahalli      3 BHK   \n",
              "3  Super built-up  Area  Ready To Move        Lingadheeranahalli      3 BHK   \n",
              "4  Super built-up  Area  Ready To Move                  Kothanur      2 BHK   \n",
              "\n",
              "   society total_sqft  bath  balcony   price  \n",
              "0  Coomee        1056   2.0      1.0   39.07  \n",
              "1  Theanmp       2600   5.0      3.0  120.00  \n",
              "2      NaN       1440   2.0      3.0   62.00  \n",
              "3  Soiewre       1521   3.0      1.0   95.00  \n",
              "4      NaN       1200   2.0      1.0   51.00  "
            ],
            "text/html": [
              "\n",
              "  <div id=\"df-2d83797d-c7b4-4cf9-93c0-a0cfb3957628\">\n",
              "    <div class=\"colab-df-container\">\n",
              "      <div>\n",
              "<style scoped>\n",
              "    .dataframe tbody tr th:only-of-type {\n",
              "        vertical-align: middle;\n",
              "    }\n",
              "\n",
              "    .dataframe tbody tr th {\n",
              "        vertical-align: top;\n",
              "    }\n",
              "\n",
              "    .dataframe thead th {\n",
              "        text-align: right;\n",
              "    }\n",
              "</style>\n",
              "<table border=\"1\" class=\"dataframe\">\n",
              "  <thead>\n",
              "    <tr style=\"text-align: right;\">\n",
              "      <th></th>\n",
              "      <th>area_type</th>\n",
              "      <th>availability</th>\n",
              "      <th>location</th>\n",
              "      <th>size</th>\n",
              "      <th>society</th>\n",
              "      <th>total_sqft</th>\n",
              "      <th>bath</th>\n",
              "      <th>balcony</th>\n",
              "      <th>price</th>\n",
              "    </tr>\n",
              "  </thead>\n",
              "  <tbody>\n",
              "    <tr>\n",
              "      <th>0</th>\n",
              "      <td>Super built-up  Area</td>\n",
              "      <td>19-Dec</td>\n",
              "      <td>Electronic City Phase II</td>\n",
              "      <td>2 BHK</td>\n",
              "      <td>Coomee</td>\n",
              "      <td>1056</td>\n",
              "      <td>2.0</td>\n",
              "      <td>1.0</td>\n",
              "      <td>39.07</td>\n",
              "    </tr>\n",
              "    <tr>\n",
              "      <th>1</th>\n",
              "      <td>Plot  Area</td>\n",
              "      <td>Ready To Move</td>\n",
              "      <td>Chikka Tirupathi</td>\n",
              "      <td>4 Bedroom</td>\n",
              "      <td>Theanmp</td>\n",
              "      <td>2600</td>\n",
              "      <td>5.0</td>\n",
              "      <td>3.0</td>\n",
              "      <td>120.00</td>\n",
              "    </tr>\n",
              "    <tr>\n",
              "      <th>2</th>\n",
              "      <td>Built-up  Area</td>\n",
              "      <td>Ready To Move</td>\n",
              "      <td>Uttarahalli</td>\n",
              "      <td>3 BHK</td>\n",
              "      <td>NaN</td>\n",
              "      <td>1440</td>\n",
              "      <td>2.0</td>\n",
              "      <td>3.0</td>\n",
              "      <td>62.00</td>\n",
              "    </tr>\n",
              "    <tr>\n",
              "      <th>3</th>\n",
              "      <td>Super built-up  Area</td>\n",
              "      <td>Ready To Move</td>\n",
              "      <td>Lingadheeranahalli</td>\n",
              "      <td>3 BHK</td>\n",
              "      <td>Soiewre</td>\n",
              "      <td>1521</td>\n",
              "      <td>3.0</td>\n",
              "      <td>1.0</td>\n",
              "      <td>95.00</td>\n",
              "    </tr>\n",
              "    <tr>\n",
              "      <th>4</th>\n",
              "      <td>Super built-up  Area</td>\n",
              "      <td>Ready To Move</td>\n",
              "      <td>Kothanur</td>\n",
              "      <td>2 BHK</td>\n",
              "      <td>NaN</td>\n",
              "      <td>1200</td>\n",
              "      <td>2.0</td>\n",
              "      <td>1.0</td>\n",
              "      <td>51.00</td>\n",
              "    </tr>\n",
              "  </tbody>\n",
              "</table>\n",
              "</div>\n",
              "      <button class=\"colab-df-convert\" onclick=\"convertToInteractive('df-2d83797d-c7b4-4cf9-93c0-a0cfb3957628')\"\n",
              "              title=\"Convert this dataframe to an interactive table.\"\n",
              "              style=\"display:none;\">\n",
              "        \n",
              "  <svg xmlns=\"http://www.w3.org/2000/svg\" height=\"24px\"viewBox=\"0 0 24 24\"\n",
              "       width=\"24px\">\n",
              "    <path d=\"M0 0h24v24H0V0z\" fill=\"none\"/>\n",
              "    <path d=\"M18.56 5.44l.94 2.06.94-2.06 2.06-.94-2.06-.94-.94-2.06-.94 2.06-2.06.94zm-11 1L8.5 8.5l.94-2.06 2.06-.94-2.06-.94L8.5 2.5l-.94 2.06-2.06.94zm10 10l.94 2.06.94-2.06 2.06-.94-2.06-.94-.94-2.06-.94 2.06-2.06.94z\"/><path d=\"M17.41 7.96l-1.37-1.37c-.4-.4-.92-.59-1.43-.59-.52 0-1.04.2-1.43.59L10.3 9.45l-7.72 7.72c-.78.78-.78 2.05 0 2.83L4 21.41c.39.39.9.59 1.41.59.51 0 1.02-.2 1.41-.59l7.78-7.78 2.81-2.81c.8-.78.8-2.07 0-2.86zM5.41 20L4 18.59l7.72-7.72 1.47 1.35L5.41 20z\"/>\n",
              "  </svg>\n",
              "      </button>\n",
              "      \n",
              "  <style>\n",
              "    .colab-df-container {\n",
              "      display:flex;\n",
              "      flex-wrap:wrap;\n",
              "      gap: 12px;\n",
              "    }\n",
              "\n",
              "    .colab-df-convert {\n",
              "      background-color: #E8F0FE;\n",
              "      border: none;\n",
              "      border-radius: 50%;\n",
              "      cursor: pointer;\n",
              "      display: none;\n",
              "      fill: #1967D2;\n",
              "      height: 32px;\n",
              "      padding: 0 0 0 0;\n",
              "      width: 32px;\n",
              "    }\n",
              "\n",
              "    .colab-df-convert:hover {\n",
              "      background-color: #E2EBFA;\n",
              "      box-shadow: 0px 1px 2px rgba(60, 64, 67, 0.3), 0px 1px 3px 1px rgba(60, 64, 67, 0.15);\n",
              "      fill: #174EA6;\n",
              "    }\n",
              "\n",
              "    [theme=dark] .colab-df-convert {\n",
              "      background-color: #3B4455;\n",
              "      fill: #D2E3FC;\n",
              "    }\n",
              "\n",
              "    [theme=dark] .colab-df-convert:hover {\n",
              "      background-color: #434B5C;\n",
              "      box-shadow: 0px 1px 3px 1px rgba(0, 0, 0, 0.15);\n",
              "      filter: drop-shadow(0px 1px 2px rgba(0, 0, 0, 0.3));\n",
              "      fill: #FFFFFF;\n",
              "    }\n",
              "  </style>\n",
              "\n",
              "      <script>\n",
              "        const buttonEl =\n",
              "          document.querySelector('#df-2d83797d-c7b4-4cf9-93c0-a0cfb3957628 button.colab-df-convert');\n",
              "        buttonEl.style.display =\n",
              "          google.colab.kernel.accessAllowed ? 'block' : 'none';\n",
              "\n",
              "        async function convertToInteractive(key) {\n",
              "          const element = document.querySelector('#df-2d83797d-c7b4-4cf9-93c0-a0cfb3957628');\n",
              "          const dataTable =\n",
              "            await google.colab.kernel.invokeFunction('convertToInteractive',\n",
              "                                                     [key], {});\n",
              "          if (!dataTable) return;\n",
              "\n",
              "          const docLinkHtml = 'Like what you see? Visit the ' +\n",
              "            '<a target=\"_blank\" href=https://colab.research.google.com/notebooks/data_table.ipynb>data table notebook</a>'\n",
              "            + ' to learn more about interactive tables.';\n",
              "          element.innerHTML = '';\n",
              "          dataTable['output_type'] = 'display_data';\n",
              "          await google.colab.output.renderOutput(dataTable, element);\n",
              "          const docLink = document.createElement('div');\n",
              "          docLink.innerHTML = docLinkHtml;\n",
              "          element.appendChild(docLink);\n",
              "        }\n",
              "      </script>\n",
              "    </div>\n",
              "  </div>\n",
              "  "
            ]
          },
          "metadata": {}
        },
        {
          "output_type": "stream",
          "name": "stdout",
          "text": [
            "<class 'pandas.core.frame.DataFrame'>\n",
            "RangeIndex: 13320 entries, 0 to 13319\n",
            "Data columns (total 4 columns):\n",
            " #   Column      Non-Null Count  Dtype  \n",
            "---  ------      --------------  -----  \n",
            " 0   total_sqft  13320 non-null  object \n",
            " 1   bath        13247 non-null  float64\n",
            " 2   balcony     12711 non-null  float64\n",
            " 3   price       13320 non-null  float64\n",
            "dtypes: float64(3), object(1)\n",
            "memory usage: 416.4+ KB\n"
          ]
        }
      ]
    },
    {
      "cell_type": "code",
      "source": [
        "pd.options.display.float_format = '{:,.2f}'.format"
      ],
      "metadata": {
        "id": "ZRsx4WJcyikQ"
      },
      "execution_count": 56,
      "outputs": []
    },
    {
      "cell_type": "markdown",
      "source": [
        "#### **1-2. 데이터 형태 확인**\n",
        "- 전처리 후, 지난 노트와 데이터의 shape이 같은지 확인해보세요.\n",
        "- 특성들의 type을 확인해보세요.\n",
        "  - Hint) **dtypes**"
      ],
      "metadata": {
        "id": "EoF0NnChZvd_"
      }
    },
    {
      "cell_type": "code",
      "execution_count": 35,
      "metadata": {
        "id": "9itf5HBnhhbZ",
        "colab": {
          "base_uri": "https://localhost:8080/"
        },
        "outputId": "8082e8c2-eb79-49aa-b620-b02900e0cf29"
      },
      "outputs": [
        {
          "output_type": "stream",
          "name": "stdout",
          "text": [
            "<class 'pandas.core.frame.DataFrame'>\n",
            "Int64Index: 10748 entries, 0 to 10932\n",
            "Data columns (total 4 columns):\n",
            " #   Column      Non-Null Count  Dtype  \n",
            "---  ------      --------------  -----  \n",
            " 0   total_sqft  10748 non-null  float64\n",
            " 1   bath        10748 non-null  float64\n",
            " 2   balcony     10748 non-null  float64\n",
            " 3   price       10748 non-null  float64\n",
            "dtypes: float64(4)\n",
            "memory usage: 677.9 KB\n"
          ]
        }
      ],
      "source": [
        "# Null제거\n",
        "df= df.dropna()\n",
        "df.info()"
      ]
    },
    {
      "cell_type": "code",
      "source": [
        "# 중복값제거 및 reset_index\n",
        "df.duplicated().sum()\n",
        "df.drop_duplicates(inplace=True)\n",
        "df.reset_index(drop=True,inplace=True)\n",
        "df.info()"
      ],
      "metadata": {
        "colab": {
          "base_uri": "https://localhost:8080/"
        },
        "id": "EO7h05Hcprlh",
        "outputId": "d5eb5305-0a20-46af-ff45-beca06357e6a"
      },
      "execution_count": 36,
      "outputs": [
        {
          "output_type": "stream",
          "name": "stdout",
          "text": [
            "<class 'pandas.core.frame.DataFrame'>\n",
            "RangeIndex: 10748 entries, 0 to 10747\n",
            "Data columns (total 4 columns):\n",
            " #   Column      Non-Null Count  Dtype  \n",
            "---  ------      --------------  -----  \n",
            " 0   total_sqft  10748 non-null  float64\n",
            " 1   bath        10748 non-null  float64\n",
            " 2   balcony     10748 non-null  float64\n",
            " 3   price       10748 non-null  float64\n",
            "dtypes: float64(4)\n",
            "memory usage: 336.0 KB\n"
          ]
        }
      ]
    },
    {
      "cell_type": "code",
      "source": [
        "idx = []\n",
        "for i in range(len(df.total_sqft)):\n",
        "  try:\n",
        "    float(df.total_sqft[i])\n",
        "  except:\n",
        "    idx.append(i) # 수치형으로 변환되지 않은 데이터들의 index 저장. ex) 2100 - 2850 형식처럼 수치형으로 바꿀 수 없는 데이터 존재.\n",
        "\n",
        "\n",
        "df.drop(idx,axis=0,inplace=True)\n",
        "df.total_sqft = df.total_sqft.astype('float')\n",
        "df.info()"
      ],
      "metadata": {
        "colab": {
          "base_uri": "https://localhost:8080/"
        },
        "id": "rIqu-zWToCgX",
        "outputId": "62a2d5d2-d39b-4bde-a773-12c420cd3507"
      },
      "execution_count": 37,
      "outputs": [
        {
          "output_type": "stream",
          "name": "stdout",
          "text": [
            "<class 'pandas.core.frame.DataFrame'>\n",
            "RangeIndex: 10748 entries, 0 to 10747\n",
            "Data columns (total 4 columns):\n",
            " #   Column      Non-Null Count  Dtype  \n",
            "---  ------      --------------  -----  \n",
            " 0   total_sqft  10748 non-null  float64\n",
            " 1   bath        10748 non-null  float64\n",
            " 2   balcony     10748 non-null  float64\n",
            " 3   price       10748 non-null  float64\n",
            "dtypes: float64(4)\n",
            "memory usage: 336.0 KB\n"
          ]
        }
      ]
    },
    {
      "cell_type": "code",
      "source": [
        "df.reset_index(drop=True,inplace=True)"
      ],
      "metadata": {
        "id": "8YPlx_HbrLam"
      },
      "execution_count": 38,
      "outputs": []
    },
    {
      "cell_type": "markdown",
      "metadata": {
        "id": "dJL7ZUfMiBIF"
      },
      "source": [
        "### **Part.2 : 모델링**"
      ]
    },
    {
      "cell_type": "markdown",
      "source": [
        "#### **2-1. 데이터 분리 및 기준 모델 설정**\n",
        "- 타겟은 `price`, 다른 특성들은 입력 특성으로 사용하세요.\n",
        "- 데이터를 학습/테스트셋으로 분리해보세요.\n",
        "  ```python\n",
        "  from sklearn.model_selection import train_test_split\n",
        "  ```\n",
        "  - `random_state` 값으로 고정\n",
        "  - `test size = 0.2`\n",
        "- 분리된 학습 데이터를 학습/검증셋으로 다시 분리하세요.\n",
        "  - `random_state` 값으로 고정\n",
        "  - `test size = 0.2`\n",
        "- 분리 후 X_train, y_train, X_val, y_val, X_test, y_test의 데이터 shape은 각각 어떻게 되나요?\n",
        "- 학습 데이터의 타겟인 y_train의 평균을 사용하여 기준 모델을 설정하세요.\n",
        "  - 기준 모델의 MAE는 어떻게 되나요?"
      ],
      "metadata": {
        "id": "WLTiJm6-Xua2"
      }
    },
    {
      "cell_type": "code",
      "execution_count": 76,
      "metadata": {
        "id": "Cag4w-2bhmhU",
        "colab": {
          "base_uri": "https://localhost:8080/"
        },
        "outputId": "a313679d-f0dd-470e-d04d-08041a7dc284"
      },
      "outputs": [
        {
          "output_type": "stream",
          "name": "stdout",
          "text": [
            "X_train\n",
            "(6878, 3)\n",
            "y_train\n",
            "(6878,)\n",
            "X_val\n",
            "(1720, 3)\n",
            "y_val\n",
            "(1720,)\n",
            "X_test\n",
            "(2150, 3)\n",
            "y_test\n",
            "(2150,)\n"
          ]
        }
      ],
      "source": [
        "from sklearn.model_selection import train_test_split\n",
        "import numpy as np\n",
        "target = 'price'\n",
        "X = df.drop(target, axis=1)\n",
        "y = df['price']\n",
        "\n",
        "# 데이터를 훈련 데이터와 테스트 데이터로 나누기\n",
        "X_train, X_test, y_train, y_test = train_test_split(X, y, test_size=0.2, random_state=42)\n",
        "\n",
        "# 훈련 데이터를 훈련 데이터와 검증 데이터로 나누기\n",
        "X_train, X_val, y_train, y_val = train_test_split(X_train, y_train, test_size=0.2, random_state=42)\n",
        "\n",
        "#학습\n",
        "print(\"X_train\")\n",
        "print(X_train.shape)\n",
        "print(\"y_train\")\n",
        "print(y_train.shape)\n",
        "\n",
        "#검증\n",
        "print(\"X_val\")\n",
        "print(X_val.shape)\n",
        "print(\"y_val\")\n",
        "print(y_val.shape)\n",
        "\n",
        "#평가\n",
        "print(\"X_test\")\n",
        "print(X_test.shape)\n",
        "print(\"y_test\")\n",
        "print(y_test.shape)\n",
        "\n"
      ]
    },
    {
      "cell_type": "code",
      "source": [
        "import numpy as np\n",
        "# 훈련 데이터 타겟의 평균값 계산\n",
        "mean_price = np.mean(y_train)\n",
        "\n",
        "# 모든 예측값이 평균값인 기준 모델 예측\n",
        "y_pred_mean = np.full_like(y_val, mean_price)\n",
        "\n",
        "# 기준 모델의 RMSE, R2 score 계산\n",
        "from sklearn.metrics import mean_squared_error, mean_absolute_error, r2_score\n",
        "\n",
        "rmse_baseline = np.sqrt(mean_squared_error(y_val, y_pred_mean))\n",
        "r2_baseline = r2_score(y_val, y_pred_mean)\n",
        "mae_simple = mean_absolute_error(y_val, y_pred_mean)\n",
        "\n",
        "print(\"Baseline Model\")\n",
        "print(\"RMSE: {:.2f}\".format(rmse_baseline))\n",
        "print(\"R2 Score: {:.2f}\".format(r2_baseline))\n",
        "print(\"MAE : {:.2f}\".format(r2_baseline))\n",
        "\n"
      ],
      "metadata": {
        "colab": {
          "base_uri": "https://localhost:8080/"
        },
        "id": "Kn2ThZDktLcd",
        "outputId": "07477f86-305e-42f7-ad2f-64563ecf2424"
      },
      "execution_count": 53,
      "outputs": [
        {
          "output_type": "stream",
          "name": "stdout",
          "text": [
            "Baseline Model\n",
            "RMSE: 122.44\n",
            "R2 Score: -0.00\n",
            "MAE : -0.00\n"
          ]
        }
      ]
    },
    {
      "cell_type": "markdown",
      "metadata": {
        "id": "A82YtRIUidyp"
      },
      "source": [
        "#### **2-2. 다중 선형회귀 모델**\n",
        "- 모든 입력 특성을 사용해서 다중 선형회귀 모델을 만들고 학습과 검증 데이터셋에서의 MAE와 $R^2$ score를 확인해보세요.\n",
        "  - MAE: `mean_absolute_error(실제값, 예측값)`\n",
        "  - $R^2$: `선형회귀모델.score(입력 특성, 타겟)`\n",
        "- 과적합/과소적합이 발생했나요? 발생했다면 어떻게 해결할 수 있을까요?\n",
        "  - 편향과 분산의 관점에서 해결 방법을 논의해보세요."
      ]
    },
    {
      "cell_type": "code",
      "execution_count": 59,
      "metadata": {
        "id": "wCwKm9IdsJf8",
        "colab": {
          "base_uri": "https://localhost:8080/"
        },
        "outputId": "36a3ce50-3f8e-41d1-cc9f-a06e1749d0a5"
      },
      "outputs": [
        {
          "output_type": "stream",
          "name": "stdout",
          "text": [
            "Multiple Linear Regression Model\n",
            "92.07837867627643\n",
            "0.4337062414891132\n",
            "69.75144761862899\n"
          ]
        }
      ],
      "source": [
        "from sklearn.linear_model import LinearRegression\n",
        "\n",
        "# 다중선형회귀 모델 생성 및 학습\n",
        "model = LinearRegression()\n",
        "model.fit(X_train, y_train)\n",
        "\n",
        "# 검증 데이터 예측\n",
        "y_pred = model.predict(X_val)\n",
        "\n",
        "# RMSE, R2 score 계산\n",
        "rmse = np.sqrt(mean_squared_error(y_val, y_pred))\n",
        "r2 = r2_score(y_val, y_pred)\n",
        "mae_multi = mean_absolute_error(y_val, y_pred_mean)\n",
        "\n",
        "print(\"Multiple Linear Regression Model\")\n",
        "print(rmse)\n",
        "print(r2)\n",
        "print(mae_multi)\n",
        "\n"
      ]
    },
    {
      "cell_type": "markdown",
      "source": [
        "# 결론\n",
        "\n",
        "과적합이 발생했다.\n",
        "\n",
        "데이터의 이상치를 확인해서 분산을 줄여야 한다.\n",
        "\n"
      ],
      "metadata": {
        "id": "xdszw2Zd1d8V"
      }
    },
    {
      "cell_type": "markdown",
      "source": [
        "[과대적합]\n",
        "- train 데이터에서의 성능은 좋지만, test 데이터에서는 성능이 나빠짐 \n",
        "- train data : RMSE -low , R2- high\n",
        "- test data: RMSE - high, R2-low\n",
        "\n",
        "[과소적합]\n",
        "- 훈련데이터와 테스트데이터 성능 모두 낮음\n",
        "- train data: RMSE, MAE - high, R2-high\n",
        "-test data: RMSE, MAE- high, R2-low"
      ],
      "metadata": {
        "id": "y1xK-9mI0gOF"
      }
    },
    {
      "cell_type": "markdown",
      "metadata": {
        "id": "hOnKbTiXjF3v"
      },
      "source": [
        "#### **2-3. 다항 선형회귀 모델**\n",
        "- 모든 입력 특성을 사용해서 다항 선형회귀 모델을 만들어보세요.\n",
        "  - 차수는 주어진 리스트 내에 있는 차수를 모두 사용해보세요.\n",
        "  - 각 차수에 해당하는 다항 선형회귀 모델의 학습과 검증 데이터셋에서의 MAE, $R^2$ score를 확인해보세요.\n",
        "- 차수가 몇일 때 과적합이 가장 심했나요?\n",
        "  - 높은 차수는 낮은 차수에 비해 학습과 검증 데이터셋에서의 성능 차이가 **항상** 클까요?\n",
        "- 다중 선형회귀와 다항 선형회귀 중 성능이 더 좋은 모델은 어떤 모델인가요?\n",
        "  - 더 좋은 모델은 안 좋은 모델에 비해 검증 데이터에서의 MAE가 얼마나 더 낮나요?"
      ]
    },
    {
      "cell_type": "code",
      "execution_count": 61,
      "metadata": {
        "id": "p3KX-y5m0kPE"
      },
      "outputs": [],
      "source": [
        "polynomial_degrees = [1, 2, 3, 4, 5]"
      ]
    },
    {
      "cell_type": "code",
      "source": [
        "import numpy as np\n",
        "from sklearn.metrics import mean_squared_error, mean_absolute_error, r2_score\n",
        "\n",
        "pd.options.display.float_format = '{:,.2f}'.format\n",
        "\n",
        "\n",
        "def eval_models(y_true, y_pred) :\n",
        "    mse = mean_squared_error(y_true, y_pred).round(3)\n",
        "    rmse = np.sqrt(mse).round(3)\n",
        "    mae = mean_absolute_error(y_true, y_pred).round(3)\n",
        "    r2 = r2_score(y_true, y_pred)\n",
        "\n",
        "    return mse, rmse, mae, r2\n",
        "\n",
        "baseline = [y_train.mean()] * len(y_train)\n",
        "eval_models(baseline, y_train)\n",
        "\n",
        "\n",
        "from sklearn.linear_model import LinearRegression\n",
        "from sklearn.pipeline import make_pipeline\n",
        "from sklearn.preprocessing import PolynomialFeatures\n"
      ],
      "metadata": {
        "colab": {
          "base_uri": "https://localhost:8080/"
        },
        "id": "bZBQCZ4N54Z1",
        "outputId": "f6c5aa87-34cc-4ba0-8d74-9ed7b4d5542b"
      },
      "execution_count": 68,
      "outputs": [
        {
          "output_type": "stream",
          "name": "stdout",
          "text": [
            "          Base    Train   Validation       Test\n",
            "mse  20,585.79 7,608.88 1,115,935.18 179,934.60\n",
            "rmse    143.48    87.23     1,056.38     424.19\n",
            "mae      73.89    42.39        78.41      53.25\n",
            "r2        0.00     0.63       -73.54      -7.57\n"
          ]
        }
      ]
    },
    {
      "cell_type": "code",
      "source": [
        "def PolynomialRegression(degree=5, **kwargs):\n",
        "    return make_pipeline(PolynomialFeatures(degree), \n",
        "                         LinearRegression(**kwargs))\n",
        "\n",
        "poly_ols = PolynomialRegression(degree=2)\n",
        "poly_ols.fit(X_train, y_train)\n",
        "y_train_pred = poly_ols.predict(X_train)\n",
        "\n",
        "y_val_pred = poly_ols.predict(X_val)\n",
        "y_test_pred = poly_ols.predict(X_test)\n",
        "\n",
        "comparison = pd.DataFrame(index=['mse', 'rmse', 'mae', 'r2'], columns=['Base', 'Train', 'Validation', 'Test'])\n",
        "comparison['Base'] = eval_models(y_train, baseline)\n",
        "comparison['Train'] = eval_models(y_train, y_train_pred)\n",
        "comparison['Validation'] = eval_models(y_val, y_val_pred)\n",
        "comparison['Test'] = eval_models(y_test, y_test_pred)\n",
        "\n",
        "print(comparison)"
      ],
      "metadata": {
        "colab": {
          "base_uri": "https://localhost:8080/"
        },
        "id": "XuafEgb26MRK",
        "outputId": "d3c9f3ce-90c0-4810-bfef-63e1e39cba48"
      },
      "execution_count": 71,
      "outputs": [
        {
          "output_type": "stream",
          "name": "stdout",
          "text": [
            "          Base    Train  Validation      Test\n",
            "mse  20,585.79 9,474.97    7,408.82 13,733.55\n",
            "rmse    143.48    97.34       86.07    117.19\n",
            "mae      73.89    46.17       44.70     47.10\n",
            "r2        0.00     0.54        0.51      0.35\n"
          ]
        }
      ]
    },
    {
      "cell_type": "code",
      "source": [
        "def PolynomialRegression(degree=5, **kwargs):\n",
        "    return make_pipeline(PolynomialFeatures(degree), \n",
        "                         LinearRegression(**kwargs))\n",
        "\n",
        "poly_ols = PolynomialRegression(degree=3)\n",
        "poly_ols.fit(X_train, y_train)\n",
        "y_train_pred = poly_ols.predict(X_train)\n",
        "\n",
        "y_val_pred = poly_ols.predict(X_val)\n",
        "y_test_pred = poly_ols.predict(X_test)\n",
        "\n",
        "comparison = pd.DataFrame(index=['mse', 'rmse', 'mae', 'r2'], columns=['Base', 'Train', 'Validation', 'Test'])\n",
        "comparison['Base'] = eval_models(y_train, baseline)\n",
        "comparison['Train'] = eval_models(y_train, y_train_pred)\n",
        "comparison['Validation'] = eval_models(y_val, y_val_pred)\n",
        "comparison['Test'] = eval_models(y_test, y_test_pred)\n",
        "\n",
        "print(comparison)"
      ],
      "metadata": {
        "colab": {
          "base_uri": "https://localhost:8080/"
        },
        "id": "OFgvXBDA63-p",
        "outputId": "add9ce0a-7ebc-41e9-e09e-5d7c25fc79a8"
      },
      "execution_count": 72,
      "outputs": [
        {
          "output_type": "stream",
          "name": "stdout",
          "text": [
            "          Base    Train  Validation       Test\n",
            "mse  20,585.79 8,645.37    8,491.44 129,730.19\n",
            "rmse    143.48    92.98       92.15     360.18\n",
            "mae      73.89    43.37       43.50      51.59\n",
            "r2        0.00     0.58        0.43      -5.18\n"
          ]
        }
      ]
    },
    {
      "cell_type": "code",
      "source": [
        "poly_ols = PolynomialRegression(degree=4)\n",
        "poly_ols.fit(X_train, y_train)\n",
        "y_train_pred = poly_ols.predict(X_train)\n",
        "\n",
        "y_val_pred = poly_ols.predict(X_val)\n",
        "y_test_pred = poly_ols.predict(X_test)\n",
        "\n",
        "comparison = pd.DataFrame(index=['mse', 'rmse', 'mae', 'r2'], columns=['Base', 'Train', 'Validation', 'Test'])\n",
        "comparison['Base'] = eval_models(y_train, baseline)\n",
        "comparison['Train'] = eval_models(y_train, y_train_pred)\n",
        "comparison['Validation'] = eval_models(y_val, y_val_pred)\n",
        "comparison['Test'] = eval_models(y_test, y_test_pred)\n",
        "\n",
        "print(comparison)"
      ],
      "metadata": {
        "colab": {
          "base_uri": "https://localhost:8080/"
        },
        "id": "prYQs5f07lWr",
        "outputId": "f105cf9d-2b6a-4e85-942c-5e029dd577ed"
      },
      "execution_count": 73,
      "outputs": [
        {
          "output_type": "stream",
          "name": "stdout",
          "text": [
            "          Base    Train  Validation       Test\n",
            "mse  20,585.79 7,395.29  183,143.95 256,039.49\n",
            "rmse    143.48    86.00      427.95     506.00\n",
            "mae      73.89    40.50       55.01      55.55\n",
            "r2        0.00     0.64      -11.23     -11.20\n"
          ]
        }
      ]
    },
    {
      "cell_type": "code",
      "source": [
        "poly_ols = PolynomialRegression(degree=5)\n",
        "poly_ols.fit(X_train, y_train)\n",
        "y_train_pred = poly_ols.predict(X_train)\n",
        "\n",
        "y_val_pred = poly_ols.predict(X_val)\n",
        "y_test_pred = poly_ols.predict(X_test)\n",
        "\n",
        "comparison = pd.DataFrame(index=['mse', 'rmse', 'mae', 'r2'], columns=['Base', 'Train', 'Validation', 'Test'])\n",
        "comparison['Base'] = eval_models(y_train, baseline)\n",
        "comparison['Train'] = eval_models(y_train, y_train_pred)\n",
        "comparison['Validation'] = eval_models(y_val, y_val_pred)\n",
        "comparison['Test'] = eval_models(y_test, y_test_pred)\n",
        "\n",
        "print(comparison)"
      ],
      "metadata": {
        "colab": {
          "base_uri": "https://localhost:8080/"
        },
        "id": "7zD0pgqI78tS",
        "outputId": "7d2f2de4-be3a-446c-b1ad-b465d82acd7d"
      },
      "execution_count": 74,
      "outputs": [
        {
          "output_type": "stream",
          "name": "stdout",
          "text": [
            "          Base    Train   Validation       Test\n",
            "mse  20,585.79 7,608.88 1,115,935.18 179,934.60\n",
            "rmse    143.48    87.23     1,056.38     424.19\n",
            "mae      73.89    42.39        78.41      53.25\n",
            "r2        0.00     0.63       -73.54      -7.57\n"
          ]
        }
      ]
    },
    {
      "cell_type": "markdown",
      "source": [
        "#### **2-4. 기준 모델과 성능 비교**\n",
        "- 모델링 결과 성능이 가장 좋은 모델을 최종 모델로 설정해보세요.\n",
        "  - 다중 선형회귀 모델 OR 다항 선형회귀 모델(차수가 몇일 때)\n",
        "- 최종 모델은 기준 모델보다 성능이 좋나요?\n",
        "  - 성능을 평가하는 용도로 테스트셋의 MAE를 활용해보세요.\n",
        "  - 최종 모델과 기준 모델의 성능을 비교해보세요.\n"
      ],
      "metadata": {
        "id": "ZWKUR6qhawyj"
      }
    },
    {
      "cell_type": "code",
      "source": [
        "# 2차수\n",
        "poly_ols = PolynomialRegression(degree=2)\n",
        "poly_ols.fit(X_train, y_train)\n",
        "y_train_pred = poly_ols.predict(X_train)\n",
        "\n",
        "y_val_pred = poly_ols.predict(X_val)\n",
        "y_test_pred = poly_ols.predict(X_test)\n",
        "\n",
        "comparison = pd.DataFrame(index=['mse', 'rmse', 'mae', 'r2'], columns=['Base', 'Train', 'Validation', 'Test'])\n",
        "comparison['Base'] = eval_models(y_train, baseline)\n",
        "comparison['Train'] = eval_models(y_train, y_train_pred)\n",
        "comparison['Validation'] = eval_models(y_val, y_val_pred)\n",
        "comparison['Test'] = eval_models(y_test, y_test_pred)\n",
        "\n",
        "print(comparison)\n",
        "\n",
        "# 3차수 \n",
        "poly_ols = PolynomialRegression(degree=3)\n",
        "poly_ols.fit(X_train, y_train)\n",
        "y_train_pred = poly_ols.predict(X_train)\n",
        "\n",
        "y_val_pred = poly_ols.predict(X_val)\n",
        "y_test_pred = poly_ols.predict(X_test)\n",
        "\n",
        "comparison = pd.DataFrame(index=['mse', 'rmse', 'mae', 'r2'], columns=['Base', 'Train', 'Validation', 'Test'])\n",
        "comparison['Base'] = eval_models(y_train, baseline)\n",
        "comparison['Train'] = eval_models(y_train, y_train_pred)\n",
        "comparison['Validation'] = eval_models(y_val, y_val_pred)\n",
        "comparison['Test'] = eval_models(y_test, y_test_pred)\n",
        "\n",
        "print(comparison)"
      ],
      "metadata": {
        "id": "7-_qh9-TGzcg",
        "colab": {
          "base_uri": "https://localhost:8080/"
        },
        "outputId": "62681228-4ced-46b6-936c-608935e3fbc2"
      },
      "execution_count": 77,
      "outputs": [
        {
          "output_type": "stream",
          "name": "stdout",
          "text": [
            "          Base    Train  Validation      Test\n",
            "mse  18,806.88 9,452.14    7,610.80 11,719.47\n",
            "rmse    137.14    97.22       87.24    108.26\n",
            "mae      72.03    44.65       43.26     46.16\n",
            "r2       -0.00     0.50        0.55      0.53\n",
            "          Base    Train  Validation      Test\n",
            "mse  18,806.88 8,832.47  155,272.25 12,203.22\n",
            "rmse    137.14    93.98      394.05    110.47\n",
            "mae      72.03    43.45       51.06     45.76\n",
            "r2       -0.00     0.53       -8.10      0.51\n"
          ]
        }
      ]
    },
    {
      "cell_type": "markdown",
      "metadata": {
        "id": "c2Yi7buDjn7L"
      },
      "source": [
        "#### **Optional) 과적합/과소적합을 해소하기 위한 방법을 코드로 구현해보세요.** \n",
        "  - 새로운 특성 만들기, 다항회귀 차수 조정 등등\n",
        "  - 과적합/과소적합이 해소 되었나요?"
      ]
    },
    {
      "cell_type": "code",
      "execution_count": null,
      "metadata": {
        "id": "GWsBVOBKj9OU"
      },
      "outputs": [],
      "source": []
    },
    {
      "cell_type": "markdown",
      "source": [
        "### **Conclusion**\n",
        "> 오늘 Topic을 수행한 결과를 바탕으로, 다음 사항에 대해 답해 주세요.\n",
        "\n",
        "- 데이터를 학습, 검증, 테스트셋으로 분리하는 이유가 무엇일까요?\n",
        "\n",
        " - 답 : 일반화 성능이 개선되었는지 확인하기 위해 학습, 검증으로 분리하고 최종적으로 개선이 됐음을 확인하기 위해 테스트 셋으로 분리한다.\n",
        "\n",
        "- 다중 선형회귀와 다항 선형회귀 모델 중 더 좋은 모델은 무엇인가요?\n",
        "\n",
        " - 답 : 다중 선형에서 다항 선형회귀를 비교할 때, MAE 이 작을수록, R2는 높을수록 개선이 됐다고 판단한다.\n",
        "다항 선형회귀에서 MAE가 낮아지고, R2가 높았다\n",
        "\n",
        "- 다항 선형회귀 모델의 최적의 차수는 몇인가요?\n",
        "\n",
        " - 답 : 최적의 차수는 2차수입니다.\n",
        "2차수에서 3차수로 올라갈때 r2값이 감소했다\n",
        "\n",
        "- **Discussion** 표의 `정리` 탭에 답변을 정리하여 적어 주세요. "
      ],
      "metadata": {
        "id": "dRimwYwEdQnZ"
      }
    }
  ],
  "metadata": {
    "colab": {
      "provenance": [],
      "include_colab_link": true
    },
    "kernelspec": {
      "display_name": "Python 3",
      "language": "python",
      "name": "python3"
    },
    "language_info": {
      "codemirror_mode": {
        "name": "ipython",
        "version": 3
      },
      "file_extension": ".py",
      "mimetype": "text/x-python",
      "name": "python",
      "nbconvert_exporter": "python",
      "pygments_lexer": "ipython3",
      "version": "3.9.6"
    },
    "vscode": {
      "interpreter": {
        "hash": "31f2aee4e71d21fbe5cf8b01ff0e069b9275f58929596ceb00d14d90e3e16cd6"
      }
    }
  },
  "nbformat": 4,
  "nbformat_minor": 0
}