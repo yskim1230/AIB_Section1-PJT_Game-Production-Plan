{
  "cells": [
    {
      "cell_type": "markdown",
      "metadata": {
        "id": "view-in-github",
        "colab_type": "text"
      },
      "source": [
        "<a href=\"https://colab.research.google.com/github/yskim1230/AIB_Section1-PJT_Game-Production-Plan/blob/main/Sprint1_Review.ipynb\" target=\"_parent\"><img src=\"https://colab.research.google.com/assets/colab-badge.svg\" alt=\"Open In Colab\"/></a>"
      ]
    },
    {
      "cell_type": "markdown",
      "metadata": {
        "id": "y1J78TFSRrSA"
      },
      "source": [
        "<center><img src='https://raw.githubusercontent.com/Jangrae/img/master/ml_python.png' width=600/></center>"
      ]
    },
    {
      "cell_type": "markdown",
      "source": [
        "<center>최소한 이 정도는 알았으면 하는 내용만을 간추려서 정리했습니다.</center>\n",
        "<center>어쩌면 이 정도만 알아도 충분할 수 있습니다. 하지만 더 많이 알면 더 좋습니다.</center>"
      ],
      "metadata": {
        "id": "3fAfVkLGvaHV"
      }
    },
    {
      "cell_type": "markdown",
      "source": [
        "# **A.회귀 모델**\n",
        "\n",
        "- Linear Regression 알고리즘으로 회귀 모델을 만듭니다."
      ],
      "metadata": {
        "id": "iyf5MFNAc0hC"
      }
    },
    {
      "cell_type": "markdown",
      "metadata": {
        "id": "WW5MoKVRHuE8"
      },
      "source": [
        "### **1.환경 준비**\n",
        "\n",
        "- 기본 **라이브러리**와 대상 **데이터**를 가져와 이후 과정을 준비합니다."
      ]
    },
    {
      "cell_type": "markdown",
      "metadata": {
        "id": "nEUbMfKxRrSR"
      },
      "source": [
        "<img src = \"https://github.com/Jangrae/img/blob/master/code_11.png?raw=true\" width=600 align=\"left\"/>"
      ]
    },
    {
      "cell_type": "markdown",
      "source": [
        "# 개요\n",
        "실제 현장에서는 2~3번 과정이 85%의 공수가 들어가고 모델링은 5%정도 공수가 들어간다고 생각하면 된다.\n"
      ],
      "metadata": {
        "id": "rMZRxfj0StdC"
      }
    },
    {
      "cell_type": "code",
      "execution_count": 2,
      "metadata": {
        "id": "GVvCef6A8uv6",
        "scrolled": true
      },
      "outputs": [],
      "source": [
        "# 라이브러리 불러오기\n",
        "import numpy as np\n",
        "import pandas as pd\n",
        "import matplotlib.pyplot as plt\n",
        "import seaborn as sns\n",
        "import warnings\n",
        "\n",
        "warnings.filterwarnings(action='ignore')\n",
        "%config InlineBackend.figure_format = 'retina'"
      ]
    },
    {
      "cell_type": "code",
      "execution_count": 3,
      "metadata": {
        "id": "3GgFpOB4zQ7h"
      },
      "outputs": [],
      "source": [
        "# 데이터 읽어오기\n",
        "path = 'https://raw.githubusercontent.com/Jangrae/csv/master/airquality_simple.csv'\n",
        "data = pd.read_csv(path)"
      ]
    },
    {
      "cell_type": "markdown",
      "metadata": {
        "id": "ZJOddHq2zfcU"
      },
      "source": [
        "### **2.데이터 이해**\n",
        "\n",
        "- 분석할 데이터를 **충분히 이해**할 수 있도록 다양한 **탐색** 과정을 수행합니다."
      ]
    },
    {
      "cell_type": "markdown",
      "metadata": {
        "id": "CZsg53EXRrSV"
      },
      "source": [
        "<img src = \"https://github.com/Jangrae/img/blob/master/code_12.png?raw=true\" width=600 align=\"left\"/>"
      ]
    },
    {
      "cell_type": "code",
      "execution_count": 4,
      "metadata": {
        "id": "Wzs1nS348uwE",
        "colab": {
          "base_uri": "https://localhost:8080/",
          "height": 206
        },
        "outputId": "667dd463-03eb-49d1-b384-1e3a14a9cb4e"
      },
      "outputs": [
        {
          "output_type": "execute_result",
          "data": {
            "text/plain": [
              "   Ozone  Solar.R  Wind  Temp  Month  Day\n",
              "0     41    190.0   7.4    67      5    1\n",
              "1     36    118.0   8.0    72      5    2\n",
              "2     12    149.0  12.6    74      5    3\n",
              "3     18    313.0  11.5    62      5    4\n",
              "4     19      NaN  14.3    56      5    5"
            ],
            "text/html": [
              "\n",
              "  <div id=\"df-02d86093-aa76-4c72-995e-c72469c02018\">\n",
              "    <div class=\"colab-df-container\">\n",
              "      <div>\n",
              "<style scoped>\n",
              "    .dataframe tbody tr th:only-of-type {\n",
              "        vertical-align: middle;\n",
              "    }\n",
              "\n",
              "    .dataframe tbody tr th {\n",
              "        vertical-align: top;\n",
              "    }\n",
              "\n",
              "    .dataframe thead th {\n",
              "        text-align: right;\n",
              "    }\n",
              "</style>\n",
              "<table border=\"1\" class=\"dataframe\">\n",
              "  <thead>\n",
              "    <tr style=\"text-align: right;\">\n",
              "      <th></th>\n",
              "      <th>Ozone</th>\n",
              "      <th>Solar.R</th>\n",
              "      <th>Wind</th>\n",
              "      <th>Temp</th>\n",
              "      <th>Month</th>\n",
              "      <th>Day</th>\n",
              "    </tr>\n",
              "  </thead>\n",
              "  <tbody>\n",
              "    <tr>\n",
              "      <th>0</th>\n",
              "      <td>41</td>\n",
              "      <td>190.0</td>\n",
              "      <td>7.4</td>\n",
              "      <td>67</td>\n",
              "      <td>5</td>\n",
              "      <td>1</td>\n",
              "    </tr>\n",
              "    <tr>\n",
              "      <th>1</th>\n",
              "      <td>36</td>\n",
              "      <td>118.0</td>\n",
              "      <td>8.0</td>\n",
              "      <td>72</td>\n",
              "      <td>5</td>\n",
              "      <td>2</td>\n",
              "    </tr>\n",
              "    <tr>\n",
              "      <th>2</th>\n",
              "      <td>12</td>\n",
              "      <td>149.0</td>\n",
              "      <td>12.6</td>\n",
              "      <td>74</td>\n",
              "      <td>5</td>\n",
              "      <td>3</td>\n",
              "    </tr>\n",
              "    <tr>\n",
              "      <th>3</th>\n",
              "      <td>18</td>\n",
              "      <td>313.0</td>\n",
              "      <td>11.5</td>\n",
              "      <td>62</td>\n",
              "      <td>5</td>\n",
              "      <td>4</td>\n",
              "    </tr>\n",
              "    <tr>\n",
              "      <th>4</th>\n",
              "      <td>19</td>\n",
              "      <td>NaN</td>\n",
              "      <td>14.3</td>\n",
              "      <td>56</td>\n",
              "      <td>5</td>\n",
              "      <td>5</td>\n",
              "    </tr>\n",
              "  </tbody>\n",
              "</table>\n",
              "</div>\n",
              "      <button class=\"colab-df-convert\" onclick=\"convertToInteractive('df-02d86093-aa76-4c72-995e-c72469c02018')\"\n",
              "              title=\"Convert this dataframe to an interactive table.\"\n",
              "              style=\"display:none;\">\n",
              "        \n",
              "  <svg xmlns=\"http://www.w3.org/2000/svg\" height=\"24px\"viewBox=\"0 0 24 24\"\n",
              "       width=\"24px\">\n",
              "    <path d=\"M0 0h24v24H0V0z\" fill=\"none\"/>\n",
              "    <path d=\"M18.56 5.44l.94 2.06.94-2.06 2.06-.94-2.06-.94-.94-2.06-.94 2.06-2.06.94zm-11 1L8.5 8.5l.94-2.06 2.06-.94-2.06-.94L8.5 2.5l-.94 2.06-2.06.94zm10 10l.94 2.06.94-2.06 2.06-.94-2.06-.94-.94-2.06-.94 2.06-2.06.94z\"/><path d=\"M17.41 7.96l-1.37-1.37c-.4-.4-.92-.59-1.43-.59-.52 0-1.04.2-1.43.59L10.3 9.45l-7.72 7.72c-.78.78-.78 2.05 0 2.83L4 21.41c.39.39.9.59 1.41.59.51 0 1.02-.2 1.41-.59l7.78-7.78 2.81-2.81c.8-.78.8-2.07 0-2.86zM5.41 20L4 18.59l7.72-7.72 1.47 1.35L5.41 20z\"/>\n",
              "  </svg>\n",
              "      </button>\n",
              "      \n",
              "  <style>\n",
              "    .colab-df-container {\n",
              "      display:flex;\n",
              "      flex-wrap:wrap;\n",
              "      gap: 12px;\n",
              "    }\n",
              "\n",
              "    .colab-df-convert {\n",
              "      background-color: #E8F0FE;\n",
              "      border: none;\n",
              "      border-radius: 50%;\n",
              "      cursor: pointer;\n",
              "      display: none;\n",
              "      fill: #1967D2;\n",
              "      height: 32px;\n",
              "      padding: 0 0 0 0;\n",
              "      width: 32px;\n",
              "    }\n",
              "\n",
              "    .colab-df-convert:hover {\n",
              "      background-color: #E2EBFA;\n",
              "      box-shadow: 0px 1px 2px rgba(60, 64, 67, 0.3), 0px 1px 3px 1px rgba(60, 64, 67, 0.15);\n",
              "      fill: #174EA6;\n",
              "    }\n",
              "\n",
              "    [theme=dark] .colab-df-convert {\n",
              "      background-color: #3B4455;\n",
              "      fill: #D2E3FC;\n",
              "    }\n",
              "\n",
              "    [theme=dark] .colab-df-convert:hover {\n",
              "      background-color: #434B5C;\n",
              "      box-shadow: 0px 1px 3px 1px rgba(0, 0, 0, 0.15);\n",
              "      filter: drop-shadow(0px 1px 2px rgba(0, 0, 0, 0.3));\n",
              "      fill: #FFFFFF;\n",
              "    }\n",
              "  </style>\n",
              "\n",
              "      <script>\n",
              "        const buttonEl =\n",
              "          document.querySelector('#df-02d86093-aa76-4c72-995e-c72469c02018 button.colab-df-convert');\n",
              "        buttonEl.style.display =\n",
              "          google.colab.kernel.accessAllowed ? 'block' : 'none';\n",
              "\n",
              "        async function convertToInteractive(key) {\n",
              "          const element = document.querySelector('#df-02d86093-aa76-4c72-995e-c72469c02018');\n",
              "          const dataTable =\n",
              "            await google.colab.kernel.invokeFunction('convertToInteractive',\n",
              "                                                     [key], {});\n",
              "          if (!dataTable) return;\n",
              "\n",
              "          const docLinkHtml = 'Like what you see? Visit the ' +\n",
              "            '<a target=\"_blank\" href=https://colab.research.google.com/notebooks/data_table.ipynb>data table notebook</a>'\n",
              "            + ' to learn more about interactive tables.';\n",
              "          element.innerHTML = '';\n",
              "          dataTable['output_type'] = 'display_data';\n",
              "          await google.colab.output.renderOutput(dataTable, element);\n",
              "          const docLink = document.createElement('div');\n",
              "          docLink.innerHTML = docLinkHtml;\n",
              "          element.appendChild(docLink);\n",
              "        }\n",
              "      </script>\n",
              "    </div>\n",
              "  </div>\n",
              "  "
            ]
          },
          "metadata": {},
          "execution_count": 4
        }
      ],
      "source": [
        "# 상위 몇 개 행 확인\n",
        "data.head()"
      ]
    },
    {
      "cell_type": "code",
      "execution_count": 5,
      "metadata": {
        "id": "vPy64L780SM5",
        "colab": {
          "base_uri": "https://localhost:8080/",
          "height": 206
        },
        "outputId": "a1d7e657-e404-4baa-bb54-b2bbf2f10216"
      },
      "outputs": [
        {
          "output_type": "execute_result",
          "data": {
            "text/plain": [
              "     Ozone  Solar.R  Wind  Temp  Month  Day\n",
              "148     30    193.0   6.9    70      9   26\n",
              "149     23    145.0  13.2    77      9   27\n",
              "150     14    191.0  14.3    75      9   28\n",
              "151     18    131.0   8.0    76      9   29\n",
              "152     20    223.0  11.5    68      9   30"
            ],
            "text/html": [
              "\n",
              "  <div id=\"df-acb59697-5cb2-41c2-9007-9f6afc4b2ed9\">\n",
              "    <div class=\"colab-df-container\">\n",
              "      <div>\n",
              "<style scoped>\n",
              "    .dataframe tbody tr th:only-of-type {\n",
              "        vertical-align: middle;\n",
              "    }\n",
              "\n",
              "    .dataframe tbody tr th {\n",
              "        vertical-align: top;\n",
              "    }\n",
              "\n",
              "    .dataframe thead th {\n",
              "        text-align: right;\n",
              "    }\n",
              "</style>\n",
              "<table border=\"1\" class=\"dataframe\">\n",
              "  <thead>\n",
              "    <tr style=\"text-align: right;\">\n",
              "      <th></th>\n",
              "      <th>Ozone</th>\n",
              "      <th>Solar.R</th>\n",
              "      <th>Wind</th>\n",
              "      <th>Temp</th>\n",
              "      <th>Month</th>\n",
              "      <th>Day</th>\n",
              "    </tr>\n",
              "  </thead>\n",
              "  <tbody>\n",
              "    <tr>\n",
              "      <th>148</th>\n",
              "      <td>30</td>\n",
              "      <td>193.0</td>\n",
              "      <td>6.9</td>\n",
              "      <td>70</td>\n",
              "      <td>9</td>\n",
              "      <td>26</td>\n",
              "    </tr>\n",
              "    <tr>\n",
              "      <th>149</th>\n",
              "      <td>23</td>\n",
              "      <td>145.0</td>\n",
              "      <td>13.2</td>\n",
              "      <td>77</td>\n",
              "      <td>9</td>\n",
              "      <td>27</td>\n",
              "    </tr>\n",
              "    <tr>\n",
              "      <th>150</th>\n",
              "      <td>14</td>\n",
              "      <td>191.0</td>\n",
              "      <td>14.3</td>\n",
              "      <td>75</td>\n",
              "      <td>9</td>\n",
              "      <td>28</td>\n",
              "    </tr>\n",
              "    <tr>\n",
              "      <th>151</th>\n",
              "      <td>18</td>\n",
              "      <td>131.0</td>\n",
              "      <td>8.0</td>\n",
              "      <td>76</td>\n",
              "      <td>9</td>\n",
              "      <td>29</td>\n",
              "    </tr>\n",
              "    <tr>\n",
              "      <th>152</th>\n",
              "      <td>20</td>\n",
              "      <td>223.0</td>\n",
              "      <td>11.5</td>\n",
              "      <td>68</td>\n",
              "      <td>9</td>\n",
              "      <td>30</td>\n",
              "    </tr>\n",
              "  </tbody>\n",
              "</table>\n",
              "</div>\n",
              "      <button class=\"colab-df-convert\" onclick=\"convertToInteractive('df-acb59697-5cb2-41c2-9007-9f6afc4b2ed9')\"\n",
              "              title=\"Convert this dataframe to an interactive table.\"\n",
              "              style=\"display:none;\">\n",
              "        \n",
              "  <svg xmlns=\"http://www.w3.org/2000/svg\" height=\"24px\"viewBox=\"0 0 24 24\"\n",
              "       width=\"24px\">\n",
              "    <path d=\"M0 0h24v24H0V0z\" fill=\"none\"/>\n",
              "    <path d=\"M18.56 5.44l.94 2.06.94-2.06 2.06-.94-2.06-.94-.94-2.06-.94 2.06-2.06.94zm-11 1L8.5 8.5l.94-2.06 2.06-.94-2.06-.94L8.5 2.5l-.94 2.06-2.06.94zm10 10l.94 2.06.94-2.06 2.06-.94-2.06-.94-.94-2.06-.94 2.06-2.06.94z\"/><path d=\"M17.41 7.96l-1.37-1.37c-.4-.4-.92-.59-1.43-.59-.52 0-1.04.2-1.43.59L10.3 9.45l-7.72 7.72c-.78.78-.78 2.05 0 2.83L4 21.41c.39.39.9.59 1.41.59.51 0 1.02-.2 1.41-.59l7.78-7.78 2.81-2.81c.8-.78.8-2.07 0-2.86zM5.41 20L4 18.59l7.72-7.72 1.47 1.35L5.41 20z\"/>\n",
              "  </svg>\n",
              "      </button>\n",
              "      \n",
              "  <style>\n",
              "    .colab-df-container {\n",
              "      display:flex;\n",
              "      flex-wrap:wrap;\n",
              "      gap: 12px;\n",
              "    }\n",
              "\n",
              "    .colab-df-convert {\n",
              "      background-color: #E8F0FE;\n",
              "      border: none;\n",
              "      border-radius: 50%;\n",
              "      cursor: pointer;\n",
              "      display: none;\n",
              "      fill: #1967D2;\n",
              "      height: 32px;\n",
              "      padding: 0 0 0 0;\n",
              "      width: 32px;\n",
              "    }\n",
              "\n",
              "    .colab-df-convert:hover {\n",
              "      background-color: #E2EBFA;\n",
              "      box-shadow: 0px 1px 2px rgba(60, 64, 67, 0.3), 0px 1px 3px 1px rgba(60, 64, 67, 0.15);\n",
              "      fill: #174EA6;\n",
              "    }\n",
              "\n",
              "    [theme=dark] .colab-df-convert {\n",
              "      background-color: #3B4455;\n",
              "      fill: #D2E3FC;\n",
              "    }\n",
              "\n",
              "    [theme=dark] .colab-df-convert:hover {\n",
              "      background-color: #434B5C;\n",
              "      box-shadow: 0px 1px 3px 1px rgba(0, 0, 0, 0.15);\n",
              "      filter: drop-shadow(0px 1px 2px rgba(0, 0, 0, 0.3));\n",
              "      fill: #FFFFFF;\n",
              "    }\n",
              "  </style>\n",
              "\n",
              "      <script>\n",
              "        const buttonEl =\n",
              "          document.querySelector('#df-acb59697-5cb2-41c2-9007-9f6afc4b2ed9 button.colab-df-convert');\n",
              "        buttonEl.style.display =\n",
              "          google.colab.kernel.accessAllowed ? 'block' : 'none';\n",
              "\n",
              "        async function convertToInteractive(key) {\n",
              "          const element = document.querySelector('#df-acb59697-5cb2-41c2-9007-9f6afc4b2ed9');\n",
              "          const dataTable =\n",
              "            await google.colab.kernel.invokeFunction('convertToInteractive',\n",
              "                                                     [key], {});\n",
              "          if (!dataTable) return;\n",
              "\n",
              "          const docLinkHtml = 'Like what you see? Visit the ' +\n",
              "            '<a target=\"_blank\" href=https://colab.research.google.com/notebooks/data_table.ipynb>data table notebook</a>'\n",
              "            + ' to learn more about interactive tables.';\n",
              "          element.innerHTML = '';\n",
              "          dataTable['output_type'] = 'display_data';\n",
              "          await google.colab.output.renderOutput(dataTable, element);\n",
              "          const docLink = document.createElement('div');\n",
              "          docLink.innerHTML = docLinkHtml;\n",
              "          element.appendChild(docLink);\n",
              "        }\n",
              "      </script>\n",
              "    </div>\n",
              "  </div>\n",
              "  "
            ]
          },
          "metadata": {},
          "execution_count": 5
        }
      ],
      "source": [
        "# 하위 몇 개 행 확인\n",
        "data.tail()"
      ]
    },
    {
      "cell_type": "code",
      "execution_count": 7,
      "metadata": {
        "id": "1ZsXdcfp8uwI",
        "colab": {
          "base_uri": "https://localhost:8080/"
        },
        "outputId": "e2dc193d-224c-4c86-c16b-9882787d9645"
      },
      "outputs": [
        {
          "output_type": "stream",
          "name": "stdout",
          "text": [
            "<class 'pandas.core.frame.DataFrame'>\n",
            "RangeIndex: 153 entries, 0 to 152\n",
            "Data columns (total 6 columns):\n",
            " #   Column   Non-Null Count  Dtype  \n",
            "---  ------   --------------  -----  \n",
            " 0   Ozone    153 non-null    int64  \n",
            " 1   Solar.R  146 non-null    float64\n",
            " 2   Wind     153 non-null    float64\n",
            " 3   Temp     153 non-null    int64  \n",
            " 4   Month    153 non-null    int64  \n",
            " 5   Day      153 non-null    int64  \n",
            "dtypes: float64(2), int64(4)\n",
            "memory usage: 7.3 KB\n"
          ]
        }
      ],
      "source": [
        "# 변수 정보(변수 이름, 데이터 형식, 개수 등) 확인\n",
        "data.info()"
      ]
    },
    {
      "cell_type": "code",
      "execution_count": 9,
      "metadata": {
        "id": "LhAk04Uy4Occ",
        "colab": {
          "base_uri": "https://localhost:8080/",
          "height": 300
        },
        "outputId": "f1333814-0d0a-40b4-93a6-94ac1367ec76"
      },
      "outputs": [
        {
          "output_type": "execute_result",
          "data": {
            "text/plain": [
              "            Ozone     Solar.R        Wind        Temp       Month         Day\n",
              "count  153.000000  146.000000  153.000000  153.000000  153.000000  153.000000\n",
              "mean    42.052288  185.931507    9.957516   77.882353    6.993464   15.803922\n",
              "std     30.156127   90.058422    3.523001    9.465270    1.416522    8.864520\n",
              "min      1.000000    7.000000    1.700000   56.000000    5.000000    1.000000\n",
              "25%     20.000000  115.750000    7.400000   72.000000    6.000000    8.000000\n",
              "50%     34.000000  205.000000    9.700000   79.000000    7.000000   16.000000\n",
              "75%     59.000000  258.750000   11.500000   85.000000    8.000000   23.000000\n",
              "max    168.000000  334.000000   20.700000   97.000000    9.000000   31.000000"
            ],
            "text/html": [
              "\n",
              "  <div id=\"df-842e8d90-43ce-43b9-afce-8d339ab1802d\">\n",
              "    <div class=\"colab-df-container\">\n",
              "      <div>\n",
              "<style scoped>\n",
              "    .dataframe tbody tr th:only-of-type {\n",
              "        vertical-align: middle;\n",
              "    }\n",
              "\n",
              "    .dataframe tbody tr th {\n",
              "        vertical-align: top;\n",
              "    }\n",
              "\n",
              "    .dataframe thead th {\n",
              "        text-align: right;\n",
              "    }\n",
              "</style>\n",
              "<table border=\"1\" class=\"dataframe\">\n",
              "  <thead>\n",
              "    <tr style=\"text-align: right;\">\n",
              "      <th></th>\n",
              "      <th>Ozone</th>\n",
              "      <th>Solar.R</th>\n",
              "      <th>Wind</th>\n",
              "      <th>Temp</th>\n",
              "      <th>Month</th>\n",
              "      <th>Day</th>\n",
              "    </tr>\n",
              "  </thead>\n",
              "  <tbody>\n",
              "    <tr>\n",
              "      <th>count</th>\n",
              "      <td>153.000000</td>\n",
              "      <td>146.000000</td>\n",
              "      <td>153.000000</td>\n",
              "      <td>153.000000</td>\n",
              "      <td>153.000000</td>\n",
              "      <td>153.000000</td>\n",
              "    </tr>\n",
              "    <tr>\n",
              "      <th>mean</th>\n",
              "      <td>42.052288</td>\n",
              "      <td>185.931507</td>\n",
              "      <td>9.957516</td>\n",
              "      <td>77.882353</td>\n",
              "      <td>6.993464</td>\n",
              "      <td>15.803922</td>\n",
              "    </tr>\n",
              "    <tr>\n",
              "      <th>std</th>\n",
              "      <td>30.156127</td>\n",
              "      <td>90.058422</td>\n",
              "      <td>3.523001</td>\n",
              "      <td>9.465270</td>\n",
              "      <td>1.416522</td>\n",
              "      <td>8.864520</td>\n",
              "    </tr>\n",
              "    <tr>\n",
              "      <th>min</th>\n",
              "      <td>1.000000</td>\n",
              "      <td>7.000000</td>\n",
              "      <td>1.700000</td>\n",
              "      <td>56.000000</td>\n",
              "      <td>5.000000</td>\n",
              "      <td>1.000000</td>\n",
              "    </tr>\n",
              "    <tr>\n",
              "      <th>25%</th>\n",
              "      <td>20.000000</td>\n",
              "      <td>115.750000</td>\n",
              "      <td>7.400000</td>\n",
              "      <td>72.000000</td>\n",
              "      <td>6.000000</td>\n",
              "      <td>8.000000</td>\n",
              "    </tr>\n",
              "    <tr>\n",
              "      <th>50%</th>\n",
              "      <td>34.000000</td>\n",
              "      <td>205.000000</td>\n",
              "      <td>9.700000</td>\n",
              "      <td>79.000000</td>\n",
              "      <td>7.000000</td>\n",
              "      <td>16.000000</td>\n",
              "    </tr>\n",
              "    <tr>\n",
              "      <th>75%</th>\n",
              "      <td>59.000000</td>\n",
              "      <td>258.750000</td>\n",
              "      <td>11.500000</td>\n",
              "      <td>85.000000</td>\n",
              "      <td>8.000000</td>\n",
              "      <td>23.000000</td>\n",
              "    </tr>\n",
              "    <tr>\n",
              "      <th>max</th>\n",
              "      <td>168.000000</td>\n",
              "      <td>334.000000</td>\n",
              "      <td>20.700000</td>\n",
              "      <td>97.000000</td>\n",
              "      <td>9.000000</td>\n",
              "      <td>31.000000</td>\n",
              "    </tr>\n",
              "  </tbody>\n",
              "</table>\n",
              "</div>\n",
              "      <button class=\"colab-df-convert\" onclick=\"convertToInteractive('df-842e8d90-43ce-43b9-afce-8d339ab1802d')\"\n",
              "              title=\"Convert this dataframe to an interactive table.\"\n",
              "              style=\"display:none;\">\n",
              "        \n",
              "  <svg xmlns=\"http://www.w3.org/2000/svg\" height=\"24px\"viewBox=\"0 0 24 24\"\n",
              "       width=\"24px\">\n",
              "    <path d=\"M0 0h24v24H0V0z\" fill=\"none\"/>\n",
              "    <path d=\"M18.56 5.44l.94 2.06.94-2.06 2.06-.94-2.06-.94-.94-2.06-.94 2.06-2.06.94zm-11 1L8.5 8.5l.94-2.06 2.06-.94-2.06-.94L8.5 2.5l-.94 2.06-2.06.94zm10 10l.94 2.06.94-2.06 2.06-.94-2.06-.94-.94-2.06-.94 2.06-2.06.94z\"/><path d=\"M17.41 7.96l-1.37-1.37c-.4-.4-.92-.59-1.43-.59-.52 0-1.04.2-1.43.59L10.3 9.45l-7.72 7.72c-.78.78-.78 2.05 0 2.83L4 21.41c.39.39.9.59 1.41.59.51 0 1.02-.2 1.41-.59l7.78-7.78 2.81-2.81c.8-.78.8-2.07 0-2.86zM5.41 20L4 18.59l7.72-7.72 1.47 1.35L5.41 20z\"/>\n",
              "  </svg>\n",
              "      </button>\n",
              "      \n",
              "  <style>\n",
              "    .colab-df-container {\n",
              "      display:flex;\n",
              "      flex-wrap:wrap;\n",
              "      gap: 12px;\n",
              "    }\n",
              "\n",
              "    .colab-df-convert {\n",
              "      background-color: #E8F0FE;\n",
              "      border: none;\n",
              "      border-radius: 50%;\n",
              "      cursor: pointer;\n",
              "      display: none;\n",
              "      fill: #1967D2;\n",
              "      height: 32px;\n",
              "      padding: 0 0 0 0;\n",
              "      width: 32px;\n",
              "    }\n",
              "\n",
              "    .colab-df-convert:hover {\n",
              "      background-color: #E2EBFA;\n",
              "      box-shadow: 0px 1px 2px rgba(60, 64, 67, 0.3), 0px 1px 3px 1px rgba(60, 64, 67, 0.15);\n",
              "      fill: #174EA6;\n",
              "    }\n",
              "\n",
              "    [theme=dark] .colab-df-convert {\n",
              "      background-color: #3B4455;\n",
              "      fill: #D2E3FC;\n",
              "    }\n",
              "\n",
              "    [theme=dark] .colab-df-convert:hover {\n",
              "      background-color: #434B5C;\n",
              "      box-shadow: 0px 1px 3px 1px rgba(0, 0, 0, 0.15);\n",
              "      filter: drop-shadow(0px 1px 2px rgba(0, 0, 0, 0.3));\n",
              "      fill: #FFFFFF;\n",
              "    }\n",
              "  </style>\n",
              "\n",
              "      <script>\n",
              "        const buttonEl =\n",
              "          document.querySelector('#df-842e8d90-43ce-43b9-afce-8d339ab1802d button.colab-df-convert');\n",
              "        buttonEl.style.display =\n",
              "          google.colab.kernel.accessAllowed ? 'block' : 'none';\n",
              "\n",
              "        async function convertToInteractive(key) {\n",
              "          const element = document.querySelector('#df-842e8d90-43ce-43b9-afce-8d339ab1802d');\n",
              "          const dataTable =\n",
              "            await google.colab.kernel.invokeFunction('convertToInteractive',\n",
              "                                                     [key], {});\n",
              "          if (!dataTable) return;\n",
              "\n",
              "          const docLinkHtml = 'Like what you see? Visit the ' +\n",
              "            '<a target=\"_blank\" href=https://colab.research.google.com/notebooks/data_table.ipynb>data table notebook</a>'\n",
              "            + ' to learn more about interactive tables.';\n",
              "          element.innerHTML = '';\n",
              "          dataTable['output_type'] = 'display_data';\n",
              "          await google.colab.output.renderOutput(dataTable, element);\n",
              "          const docLink = document.createElement('div');\n",
              "          docLink.innerHTML = docLinkHtml;\n",
              "          element.appendChild(docLink);\n",
              "        }\n",
              "      </script>\n",
              "    </div>\n",
              "  </div>\n",
              "  "
            ]
          },
          "metadata": {},
          "execution_count": 9
        }
      ],
      "source": [
        "# 기술통계 확인\n",
        "data.describe()"
      ]
    },
    {
      "cell_type": "code",
      "execution_count": 14,
      "metadata": {
        "id": "K09lnS9i4itn",
        "colab": {
          "base_uri": "https://localhost:8080/",
          "height": 238
        },
        "outputId": "96a21b20-9906-4864-adf5-2c2f10865b65"
      },
      "outputs": [
        {
          "output_type": "execute_result",
          "data": {
            "text/plain": [
              "            Ozone   Solar.R      Wind      Temp     Month       Day\n",
              "Ozone    1.000000  0.280068 -0.605478  0.683372  0.174197  0.004419\n",
              "Solar.R  0.280068  1.000000 -0.056792  0.275840 -0.075301 -0.150275\n",
              "Wind    -0.605478 -0.056792  1.000000 -0.457988 -0.178293  0.027181\n",
              "Temp     0.683372  0.275840 -0.457988  1.000000  0.420947 -0.130593\n",
              "Month    0.174197 -0.075301 -0.178293  0.420947  1.000000 -0.007962\n",
              "Day      0.004419 -0.150275  0.027181 -0.130593 -0.007962  1.000000"
            ],
            "text/html": [
              "\n",
              "  <div id=\"df-c6d4a964-61f2-41ca-9007-4760f3c70a42\">\n",
              "    <div class=\"colab-df-container\">\n",
              "      <div>\n",
              "<style scoped>\n",
              "    .dataframe tbody tr th:only-of-type {\n",
              "        vertical-align: middle;\n",
              "    }\n",
              "\n",
              "    .dataframe tbody tr th {\n",
              "        vertical-align: top;\n",
              "    }\n",
              "\n",
              "    .dataframe thead th {\n",
              "        text-align: right;\n",
              "    }\n",
              "</style>\n",
              "<table border=\"1\" class=\"dataframe\">\n",
              "  <thead>\n",
              "    <tr style=\"text-align: right;\">\n",
              "      <th></th>\n",
              "      <th>Ozone</th>\n",
              "      <th>Solar.R</th>\n",
              "      <th>Wind</th>\n",
              "      <th>Temp</th>\n",
              "      <th>Month</th>\n",
              "      <th>Day</th>\n",
              "    </tr>\n",
              "  </thead>\n",
              "  <tbody>\n",
              "    <tr>\n",
              "      <th>Ozone</th>\n",
              "      <td>1.000000</td>\n",
              "      <td>0.280068</td>\n",
              "      <td>-0.605478</td>\n",
              "      <td>0.683372</td>\n",
              "      <td>0.174197</td>\n",
              "      <td>0.004419</td>\n",
              "    </tr>\n",
              "    <tr>\n",
              "      <th>Solar.R</th>\n",
              "      <td>0.280068</td>\n",
              "      <td>1.000000</td>\n",
              "      <td>-0.056792</td>\n",
              "      <td>0.275840</td>\n",
              "      <td>-0.075301</td>\n",
              "      <td>-0.150275</td>\n",
              "    </tr>\n",
              "    <tr>\n",
              "      <th>Wind</th>\n",
              "      <td>-0.605478</td>\n",
              "      <td>-0.056792</td>\n",
              "      <td>1.000000</td>\n",
              "      <td>-0.457988</td>\n",
              "      <td>-0.178293</td>\n",
              "      <td>0.027181</td>\n",
              "    </tr>\n",
              "    <tr>\n",
              "      <th>Temp</th>\n",
              "      <td>0.683372</td>\n",
              "      <td>0.275840</td>\n",
              "      <td>-0.457988</td>\n",
              "      <td>1.000000</td>\n",
              "      <td>0.420947</td>\n",
              "      <td>-0.130593</td>\n",
              "    </tr>\n",
              "    <tr>\n",
              "      <th>Month</th>\n",
              "      <td>0.174197</td>\n",
              "      <td>-0.075301</td>\n",
              "      <td>-0.178293</td>\n",
              "      <td>0.420947</td>\n",
              "      <td>1.000000</td>\n",
              "      <td>-0.007962</td>\n",
              "    </tr>\n",
              "    <tr>\n",
              "      <th>Day</th>\n",
              "      <td>0.004419</td>\n",
              "      <td>-0.150275</td>\n",
              "      <td>0.027181</td>\n",
              "      <td>-0.130593</td>\n",
              "      <td>-0.007962</td>\n",
              "      <td>1.000000</td>\n",
              "    </tr>\n",
              "  </tbody>\n",
              "</table>\n",
              "</div>\n",
              "      <button class=\"colab-df-convert\" onclick=\"convertToInteractive('df-c6d4a964-61f2-41ca-9007-4760f3c70a42')\"\n",
              "              title=\"Convert this dataframe to an interactive table.\"\n",
              "              style=\"display:none;\">\n",
              "        \n",
              "  <svg xmlns=\"http://www.w3.org/2000/svg\" height=\"24px\"viewBox=\"0 0 24 24\"\n",
              "       width=\"24px\">\n",
              "    <path d=\"M0 0h24v24H0V0z\" fill=\"none\"/>\n",
              "    <path d=\"M18.56 5.44l.94 2.06.94-2.06 2.06-.94-2.06-.94-.94-2.06-.94 2.06-2.06.94zm-11 1L8.5 8.5l.94-2.06 2.06-.94-2.06-.94L8.5 2.5l-.94 2.06-2.06.94zm10 10l.94 2.06.94-2.06 2.06-.94-2.06-.94-.94-2.06-.94 2.06-2.06.94z\"/><path d=\"M17.41 7.96l-1.37-1.37c-.4-.4-.92-.59-1.43-.59-.52 0-1.04.2-1.43.59L10.3 9.45l-7.72 7.72c-.78.78-.78 2.05 0 2.83L4 21.41c.39.39.9.59 1.41.59.51 0 1.02-.2 1.41-.59l7.78-7.78 2.81-2.81c.8-.78.8-2.07 0-2.86zM5.41 20L4 18.59l7.72-7.72 1.47 1.35L5.41 20z\"/>\n",
              "  </svg>\n",
              "      </button>\n",
              "      \n",
              "  <style>\n",
              "    .colab-df-container {\n",
              "      display:flex;\n",
              "      flex-wrap:wrap;\n",
              "      gap: 12px;\n",
              "    }\n",
              "\n",
              "    .colab-df-convert {\n",
              "      background-color: #E8F0FE;\n",
              "      border: none;\n",
              "      border-radius: 50%;\n",
              "      cursor: pointer;\n",
              "      display: none;\n",
              "      fill: #1967D2;\n",
              "      height: 32px;\n",
              "      padding: 0 0 0 0;\n",
              "      width: 32px;\n",
              "    }\n",
              "\n",
              "    .colab-df-convert:hover {\n",
              "      background-color: #E2EBFA;\n",
              "      box-shadow: 0px 1px 2px rgba(60, 64, 67, 0.3), 0px 1px 3px 1px rgba(60, 64, 67, 0.15);\n",
              "      fill: #174EA6;\n",
              "    }\n",
              "\n",
              "    [theme=dark] .colab-df-convert {\n",
              "      background-color: #3B4455;\n",
              "      fill: #D2E3FC;\n",
              "    }\n",
              "\n",
              "    [theme=dark] .colab-df-convert:hover {\n",
              "      background-color: #434B5C;\n",
              "      box-shadow: 0px 1px 3px 1px rgba(0, 0, 0, 0.15);\n",
              "      filter: drop-shadow(0px 1px 2px rgba(0, 0, 0, 0.3));\n",
              "      fill: #FFFFFF;\n",
              "    }\n",
              "  </style>\n",
              "\n",
              "      <script>\n",
              "        const buttonEl =\n",
              "          document.querySelector('#df-c6d4a964-61f2-41ca-9007-4760f3c70a42 button.colab-df-convert');\n",
              "        buttonEl.style.display =\n",
              "          google.colab.kernel.accessAllowed ? 'block' : 'none';\n",
              "\n",
              "        async function convertToInteractive(key) {\n",
              "          const element = document.querySelector('#df-c6d4a964-61f2-41ca-9007-4760f3c70a42');\n",
              "          const dataTable =\n",
              "            await google.colab.kernel.invokeFunction('convertToInteractive',\n",
              "                                                     [key], {});\n",
              "          if (!dataTable) return;\n",
              "\n",
              "          const docLinkHtml = 'Like what you see? Visit the ' +\n",
              "            '<a target=\"_blank\" href=https://colab.research.google.com/notebooks/data_table.ipynb>data table notebook</a>'\n",
              "            + ' to learn more about interactive tables.';\n",
              "          element.innerHTML = '';\n",
              "          dataTable['output_type'] = 'display_data';\n",
              "          await google.colab.output.renderOutput(dataTable, element);\n",
              "          const docLink = document.createElement('div');\n",
              "          docLink.innerHTML = docLinkHtml;\n",
              "          element.appendChild(docLink);\n",
              "        }\n",
              "      </script>\n",
              "    </div>\n",
              "  </div>\n",
              "  "
            ]
          },
          "metadata": {},
          "execution_count": 14
        }
      ],
      "source": [
        "# 상관관계 확인\n",
        "data.corr()"
      ]
    },
    {
      "cell_type": "code",
      "execution_count": 15,
      "metadata": {
        "id": "IDj2PsjdLu8U",
        "colab": {
          "base_uri": "https://localhost:8080/",
          "height": 319
        },
        "outputId": "59ee2586-5c0e-40fd-8bd0-ab9006ee462d"
      },
      "outputs": [
        {
          "output_type": "display_data",
          "data": {
            "text/plain": [
              "<Figure size 576x360 with 1 Axes>"
            ],
            "image/png": "[encoded data removed]"
          },
          "metadata": {
            "image/png": {
              "width": 302,
              "height": 302
            },
            "needs_background": "light"
          }
        }
      ],
      "source": [
        "# 상관관계 확인\n",
        "plt.figure(figsize=(8, 5))\n",
        "sns.heatmap(data.corr(), \n",
        "            annot=True, \n",
        "            cmap='Blues', \n",
        "            fmt='.2f', \n",
        "            cbar=False, \n",
        "            square=True,\n",
        "            annot_kws={'size': 8})\n",
        "plt.show()"
      ]
    },
    {
      "cell_type": "code",
      "source": [
        "# Temp --> Ozone 관계 시각화\n",
        "plt.figure(figsize=(5, 5))\n",
        "plt.scatter(data['Temp'], data['Ozone'])\n",
        "plt.xlabel('Twmp')\n",
        "plt.ylabel('Ozone')\n",
        "plt.show()"
      ],
      "metadata": {
        "id": "ytfBcb0CoWyD",
        "colab": {
          "base_uri": "https://localhost:8080/",
          "height": 334
        },
        "outputId": "6a402ddc-0ca5-49ef-f5b0-92f782a738bd"
      },
      "execution_count": 17,
      "outputs": [
        {
          "output_type": "display_data",
          "data": {
            "text/plain": [
              "<Figure size 360x360 with 1 Axes>"
            ],
            "image/png": "[encoded data removed]"
          },
          "metadata": {
            "image/png": {
              "width": 333,
              "height": 317
            },
            "needs_background": "light"
          }
        }
      ]
    },
    {
      "cell_type": "markdown",
      "metadata": {
        "id": "wW0d0eGmCYJM"
      },
      "source": [
        "### **3.데이터 준비**\n",
        "\n",
        "- **전처리** 과정을 통해 머신러닝 알고리즘에 사용할 수 있는 형태의 데이터를 준비합니다."
      ]
    },
    {
      "cell_type": "markdown",
      "metadata": {
        "id": "cllND2wPRrSb"
      },
      "source": [
        "<img src = \"https://github.com/Jangrae/img/blob/master/code_13.png?raw=true\" width=600 align=\"left\"/>"
      ]
    },
    {
      "cell_type": "markdown",
      "metadata": {
        "id": "DXpv0vMf5edT"
      },
      "source": [
        "**1) 결측치 처리**\n",
        "\n",
        "- 결측치가 있으면 제거하거나 적절한 값으로 채웁니다."
      ]
    },
    {
      "cell_type": "code",
      "execution_count": 18,
      "metadata": {
        "id": "nRYIgZxT0pXk",
        "colab": {
          "base_uri": "https://localhost:8080/"
        },
        "outputId": "d19b9527-46d6-4b25-895d-172b20358ec7"
      },
      "outputs": [
        {
          "output_type": "execute_result",
          "data": {
            "text/plain": [
              "Ozone      0\n",
              "Solar.R    7\n",
              "Wind       0\n",
              "Temp       0\n",
              "Month      0\n",
              "Day        0\n",
              "dtype: int64"
            ]
          },
          "metadata": {},
          "execution_count": 18
        }
      ],
      "source": [
        "# 결측치 확인\n",
        "data.isnull().sum()"
      ]
    },
    {
      "cell_type": "code",
      "execution_count": 21,
      "metadata": {
        "id": "JcgjmED7RrSe",
        "colab": {
          "base_uri": "https://localhost:8080/"
        },
        "outputId": "344abc27-8533-470d-f609-88e65f5d365e"
      },
      "outputs": [
        {
          "output_type": "execute_result",
          "data": {
            "text/plain": [
              "Ozone      0\n",
              "Solar.R    0\n",
              "Wind       0\n",
              "Temp       0\n",
              "Month      0\n",
              "Day        0\n",
              "dtype: int64"
            ]
          },
          "metadata": {},
          "execution_count": 21
        }
      ],
      "source": [
        "# 전날 값으로 결측치 채우기\n",
        "data.fillna(method='ffill', inplace=True)\n",
        "\n",
        "# 확인\n",
        "data.isna().sum()"
      ]
    },
    {
      "cell_type": "markdown",
      "metadata": {
        "id": "o1zlo9acLu8V"
      },
      "source": [
        "**2) 변수 제거**\n",
        "\n",
        "- 분석에 의미가 없다고 판단되는 변수는 제거합니다."
      ]
    },
    {
      "cell_type": "code",
      "execution_count": 22,
      "metadata": {
        "id": "Go8EAqwILu8V",
        "colab": {
          "base_uri": "https://localhost:8080/",
          "height": 206
        },
        "outputId": "76fa16df-dd49-4973-ade2-704cd7914787"
      },
      "outputs": [
        {
          "output_type": "execute_result",
          "data": {
            "text/plain": [
              "   Ozone  Solar.R  Wind  Temp\n",
              "0     41    190.0   7.4    67\n",
              "1     36    118.0   8.0    72\n",
              "2     12    149.0  12.6    74\n",
              "3     18    313.0  11.5    62\n",
              "4     19    313.0  14.3    56"
            ],
            "text/html": [
              "\n",
              "  <div id=\"df-74f26031-7012-43e5-a585-7e1b22ceaaae\">\n",
              "    <div class=\"colab-df-container\">\n",
              "      <div>\n",
              "<style scoped>\n",
              "    .dataframe tbody tr th:only-of-type {\n",
              "        vertical-align: middle;\n",
              "    }\n",
              "\n",
              "    .dataframe tbody tr th {\n",
              "        vertical-align: top;\n",
              "    }\n",
              "\n",
              "    .dataframe thead th {\n",
              "        text-align: right;\n",
              "    }\n",
              "</style>\n",
              "<table border=\"1\" class=\"dataframe\">\n",
              "  <thead>\n",
              "    <tr style=\"text-align: right;\">\n",
              "      <th></th>\n",
              "      <th>Ozone</th>\n",
              "      <th>Solar.R</th>\n",
              "      <th>Wind</th>\n",
              "      <th>Temp</th>\n",
              "    </tr>\n",
              "  </thead>\n",
              "  <tbody>\n",
              "    <tr>\n",
              "      <th>0</th>\n",
              "      <td>41</td>\n",
              "      <td>190.0</td>\n",
              "      <td>7.4</td>\n",
              "      <td>67</td>\n",
              "    </tr>\n",
              "    <tr>\n",
              "      <th>1</th>\n",
              "      <td>36</td>\n",
              "      <td>118.0</td>\n",
              "      <td>8.0</td>\n",
              "      <td>72</td>\n",
              "    </tr>\n",
              "    <tr>\n",
              "      <th>2</th>\n",
              "      <td>12</td>\n",
              "      <td>149.0</td>\n",
              "      <td>12.6</td>\n",
              "      <td>74</td>\n",
              "    </tr>\n",
              "    <tr>\n",
              "      <th>3</th>\n",
              "      <td>18</td>\n",
              "      <td>313.0</td>\n",
              "      <td>11.5</td>\n",
              "      <td>62</td>\n",
              "    </tr>\n",
              "    <tr>\n",
              "      <th>4</th>\n",
              "      <td>19</td>\n",
              "      <td>313.0</td>\n",
              "      <td>14.3</td>\n",
              "      <td>56</td>\n",
              "    </tr>\n",
              "  </tbody>\n",
              "</table>\n",
              "</div>\n",
              "      <button class=\"colab-df-convert\" onclick=\"convertToInteractive('df-74f26031-7012-43e5-a585-7e1b22ceaaae')\"\n",
              "              title=\"Convert this dataframe to an interactive table.\"\n",
              "              style=\"display:none;\">\n",
              "        \n",
              "  <svg xmlns=\"http://www.w3.org/2000/svg\" height=\"24px\"viewBox=\"0 0 24 24\"\n",
              "       width=\"24px\">\n",
              "    <path d=\"M0 0h24v24H0V0z\" fill=\"none\"/>\n",
              "    <path d=\"M18.56 5.44l.94 2.06.94-2.06 2.06-.94-2.06-.94-.94-2.06-.94 2.06-2.06.94zm-11 1L8.5 8.5l.94-2.06 2.06-.94-2.06-.94L8.5 2.5l-.94 2.06-2.06.94zm10 10l.94 2.06.94-2.06 2.06-.94-2.06-.94-.94-2.06-.94 2.06-2.06.94z\"/><path d=\"M17.41 7.96l-1.37-1.37c-.4-.4-.92-.59-1.43-.59-.52 0-1.04.2-1.43.59L10.3 9.45l-7.72 7.72c-.78.78-.78 2.05 0 2.83L4 21.41c.39.39.9.59 1.41.59.51 0 1.02-.2 1.41-.59l7.78-7.78 2.81-2.81c.8-.78.8-2.07 0-2.86zM5.41 20L4 18.59l7.72-7.72 1.47 1.35L5.41 20z\"/>\n",
              "  </svg>\n",
              "      </button>\n",
              "      \n",
              "  <style>\n",
              "    .colab-df-container {\n",
              "      display:flex;\n",
              "      flex-wrap:wrap;\n",
              "      gap: 12px;\n",
              "    }\n",
              "\n",
              "    .colab-df-convert {\n",
              "      background-color: #E8F0FE;\n",
              "      border: none;\n",
              "      border-radius: 50%;\n",
              "      cursor: pointer;\n",
              "      display: none;\n",
              "      fill: #1967D2;\n",
              "      height: 32px;\n",
              "      padding: 0 0 0 0;\n",
              "      width: 32px;\n",
              "    }\n",
              "\n",
              "    .colab-df-convert:hover {\n",
              "      background-color: #E2EBFA;\n",
              "      box-shadow: 0px 1px 2px rgba(60, 64, 67, 0.3), 0px 1px 3px 1px rgba(60, 64, 67, 0.15);\n",
              "      fill: #174EA6;\n",
              "    }\n",
              "\n",
              "    [theme=dark] .colab-df-convert {\n",
              "      background-color: #3B4455;\n",
              "      fill: #D2E3FC;\n",
              "    }\n",
              "\n",
              "    [theme=dark] .colab-df-convert:hover {\n",
              "      background-color: #434B5C;\n",
              "      box-shadow: 0px 1px 3px 1px rgba(0, 0, 0, 0.15);\n",
              "      filter: drop-shadow(0px 1px 2px rgba(0, 0, 0, 0.3));\n",
              "      fill: #FFFFFF;\n",
              "    }\n",
              "  </style>\n",
              "\n",
              "      <script>\n",
              "        const buttonEl =\n",
              "          document.querySelector('#df-74f26031-7012-43e5-a585-7e1b22ceaaae button.colab-df-convert');\n",
              "        buttonEl.style.display =\n",
              "          google.colab.kernel.accessAllowed ? 'block' : 'none';\n",
              "\n",
              "        async function convertToInteractive(key) {\n",
              "          const element = document.querySelector('#df-74f26031-7012-43e5-a585-7e1b22ceaaae');\n",
              "          const dataTable =\n",
              "            await google.colab.kernel.invokeFunction('convertToInteractive',\n",
              "                                                     [key], {});\n",
              "          if (!dataTable) return;\n",
              "\n",
              "          const docLinkHtml = 'Like what you see? Visit the ' +\n",
              "            '<a target=\"_blank\" href=https://colab.research.google.com/notebooks/data_table.ipynb>data table notebook</a>'\n",
              "            + ' to learn more about interactive tables.';\n",
              "          element.innerHTML = '';\n",
              "          dataTable['output_type'] = 'display_data';\n",
              "          await google.colab.output.renderOutput(dataTable, element);\n",
              "          const docLink = document.createElement('div');\n",
              "          docLink.innerHTML = docLinkHtml;\n",
              "          element.appendChild(docLink);\n",
              "        }\n",
              "      </script>\n",
              "    </div>\n",
              "  </div>\n",
              "  "
            ]
          },
          "metadata": {},
          "execution_count": 22
        }
      ],
      "source": [
        "# 변수 제거\n",
        "drop_cols = ['Month', 'Day']\n",
        "data.drop(drop_cols, axis = 1, inplace=True)\n",
        "\n",
        "# 확인\n",
        "data.head()"
      ]
    },
    {
      "cell_type": "markdown",
      "metadata": {
        "id": "pvrviAKy5VoV"
      },
      "source": [
        "**3) x, y 분리**\n",
        "\n",
        "- 우선 target 변수를 명확히 지정합니다.\n",
        "- target을 제외한 나머지 변수들 데이터는 x로 선언합니다.\n",
        "- target 변수 데이터는 y로 선언합니다. \n",
        "- 이 결과로 만들어진 x는 데이터프레임, y는 시리즈가 됩니다.\n",
        "- 이후 모든 작업은 x, y를 대상으로 진행합니다."
      ]
    },
    {
      "cell_type": "code",
      "execution_count": 23,
      "metadata": {
        "id": "Ops0CDL2dEDe"
      },
      "outputs": [],
      "source": [
        "# target 확인\n",
        "target = 'Ozone'\n",
        "\n",
        "# 데이터 분리\n",
        "X = data.drop(target, axis = 1)\n",
        "y = data.loc[:, target] # y = data[target] 과 같은 의미\n",
        "\n"
      ]
    },
    {
      "cell_type": "markdown",
      "metadata": {
        "id": "R4wi_yOh5ftU"
      },
      "source": [
        "**4) 학습용, 평가용 데이터 분리**\n",
        "\n",
        "- 학습용, 평가용 데이터를 적절한 비율로 분리합니다.\n",
        "- 반복 실행 시 동일한 결과를 얻기 위해 random_state 옵션을 지정합니다."
      ]
    },
    {
      "cell_type": "markdown",
      "source": [
        "**학습용/검증용/평가용 분리**\n",
        "\n",
        "<img src = \"https://github.com/Jangrae/img/blob/master/train_val_test.png?raw=true\" width=550 align=\"left\"/>"
      ],
      "metadata": {
        "id": "elH92zMxSXud"
      }
    },
    {
      "cell_type": "markdown",
      "source": [
        "**학습용/평가용 분리**\n",
        "\n",
        "<img src = \"https://github.com/Jangrae/img/blob/master/train_val_test_02.png?raw=true\" width=550 align=\"left\"/>"
      ],
      "metadata": {
        "id": "CjjF-gpPTeZI"
      }
    },
    {
      "cell_type": "code",
      "execution_count": 24,
      "metadata": {
        "id": "uHnuBUJu8uwz",
        "colab": {
          "base_uri": "https://localhost:8080/"
        },
        "outputId": "6e96699d-13cb-477b-fe8d-7bd5dac2c349"
      },
      "outputs": [
        {
          "output_type": "stream",
          "name": "stdout",
          "text": [
            "학습용: (114, 3) (114,)\n",
            "평가용: (39, 3) (39,)\n"
          ]
        }
      ],
      "source": [
        "# 함수 불러오기\n",
        "from sklearn.model_selection import train_test_split\n",
        "\n",
        "# 3:1로 분리\n",
        "X_train, X_test, y_train, y_test = train_test_split(X, y, test_size=0.25, random_state=1)  # 테스트 사이즈는 기본 0.25이고 정수를 써넣으면 25 이런식으로. 마지막 25개 행을 테스트 사이즈로 보겠다\n",
        "\n",
        "# 확인\n",
        "print('학습용:', X_train.shape, y_train.shape)\n",
        "print('평가용:', X_test.shape, y_test.shape)"
      ]
    },
    {
      "cell_type": "markdown",
      "metadata": {
        "id": "BYr1vtpd8uw4"
      },
      "source": [
        "### **4.모델링**\n",
        "\n",
        "- 본격적으로 모델을 **선언**하고 **학습**하고 **평가**하는 과정을 진행합니다.\n",
        "- 우선 **회귀** 문제인지 **분류** 문제인지 명확히 구분합니다."
      ]
    },
    {
      "cell_type": "markdown",
      "metadata": {
        "id": "n3GKQXV7RrSk"
      },
      "source": [
        "<img src = \"https://github.com/Jangrae/img/blob/master/code_14.png?raw=true\" width=600 align=\"left\"/>"
      ]
    },
    {
      "cell_type": "markdown",
      "metadata": {
        "id": "ZfJOh5KmP3nL"
      },
      "source": [
        "- 회귀 문제 인가요? 분류 문제인가요?\n",
        "- 회귀인지 분류인지에 따라 사용할 알고리즘과 평가 방법이 달라집니다.\n",
        "- 사용할 알고리즘을 정하고 모델링을 진행합니다.\n"
      ]
    },
    {
      "cell_type": "markdown",
      "metadata": {
        "id": "myfoLv0Hnm6O"
      },
      "source": [
        "**모델링 과정**\n",
        "\n",
        "<img src = \"https://github.com/Jangrae/img/blob/master/modeling.png?raw=true\" width=600 align=\"left\"/>"
      ]
    },
    {
      "cell_type": "code",
      "execution_count": 25,
      "metadata": {
        "id": "k1cijbuDy1GC"
      },
      "outputs": [],
      "source": [
        "# 1단계: 불러오기\n",
        "from sklearn.linear_model import LinearRegression"
      ]
    },
    {
      "cell_type": "code",
      "execution_count": 26,
      "metadata": {
        "id": "7UFrvAqEy1GC"
      },
      "outputs": [],
      "source": [
        "# 2단계: 선언하기\n",
        "model = LinearRegression()"
      ]
    },
    {
      "cell_type": "code",
      "execution_count": 27,
      "metadata": {
        "id": "ll1fn5Rky1GD",
        "colab": {
          "base_uri": "https://localhost:8080/",
          "height": 75
        },
        "outputId": "91bf3da5-b1ba-41ef-e17a-e4604f9c874d"
      },
      "outputs": [
        {
          "output_type": "execute_result",
          "data": {
            "text/plain": [
              "LinearRegression()"
            ],
            "text/html": [
              "<style>#sk-container-id-1 {color: black;background-color: white;}#sk-container-id-1 pre{padding: 0;}#sk-container-id-1 div.sk-toggleable {background-color: white;}#sk-container-id-1 label.sk-toggleable__label {cursor: pointer;display: block;width: 100%;margin-bottom: 0;padding: 0.3em;box-sizing: border-box;text-align: center;}#sk-container-id-1 label.sk-toggleable__label-arrow:before {content: \"▸\";float: left;margin-right: 0.25em;color: #696969;}#sk-container-id-1 label.sk-toggleable__label-arrow:hover:before {color: black;}#sk-container-id-1 div.sk-estimator:hover label.sk-toggleable__label-arrow:before {color: black;}#sk-container-id-1 div.sk-toggleable__content {max-height: 0;max-width: 0;overflow: hidden;text-align: left;background-color: #f0f8ff;}#sk-container-id-1 div.sk-toggleable__content pre {margin: 0.2em;color: black;border-radius: 0.25em;background-color: #f0f8ff;}#sk-container-id-1 input.sk-toggleable__control:checked~div.sk-toggleable__content {max-height: 200px;max-width: 100%;overflow: auto;}#sk-container-id-1 input.sk-toggleable__control:checked~label.sk-toggleable__label-arrow:before {content: \"▾\";}#sk-container-id-1 div.sk-estimator input.sk-toggleable__control:checked~label.sk-toggleable__label {background-color: #d4ebff;}#sk-container-id-1 div.sk-label input.sk-toggleable__control:checked~label.sk-toggleable__label {background-color: #d4ebff;}#sk-container-id-1 input.sk-hidden--visually {border: 0;clip: rect(1px 1px 1px 1px);clip: rect(1px, 1px, 1px, 1px);height: 1px;margin: -1px;overflow: hidden;padding: 0;position: absolute;width: 1px;}#sk-container-id-1 div.sk-estimator {font-family: monospace;background-color: #f0f8ff;border: 1px dotted black;border-radius: 0.25em;box-sizing: border-box;margin-bottom: 0.5em;}#sk-container-id-1 div.sk-estimator:hover {background-color: #d4ebff;}#sk-container-id-1 div.sk-parallel-item::after {content: \"\";width: 100%;border-bottom: 1px solid gray;flex-grow: 1;}#sk-container-id-1 div.sk-label:hover label.sk-toggleable__label {background-color: #d4ebff;}#sk-container-id-1 div.sk-serial::before {content: \"\";position: absolute;border-left: 1px solid gray;box-sizing: border-box;top: 0;bottom: 0;left: 50%;z-index: 0;}#sk-container-id-1 div.sk-serial {display: flex;flex-direction: column;align-items: center;background-color: white;padding-right: 0.2em;padding-left: 0.2em;position: relative;}#sk-container-id-1 div.sk-item {position: relative;z-index: 1;}#sk-container-id-1 div.sk-parallel {display: flex;align-items: stretch;justify-content: center;background-color: white;position: relative;}#sk-container-id-1 div.sk-item::before, #sk-container-id-1 div.sk-parallel-item::before {content: \"\";position: absolute;border-left: 1px solid gray;box-sizing: border-box;top: 0;bottom: 0;left: 50%;z-index: -1;}#sk-container-id-1 div.sk-parallel-item {display: flex;flex-direction: column;z-index: 1;position: relative;background-color: white;}#sk-container-id-1 div.sk-parallel-item:first-child::after {align-self: flex-end;width: 50%;}#sk-container-id-1 div.sk-parallel-item:last-child::after {align-self: flex-start;width: 50%;}#sk-container-id-1 div.sk-parallel-item:only-child::after {width: 0;}#sk-container-id-1 div.sk-dashed-wrapped {border: 1px dashed gray;margin: 0 0.4em 0.5em 0.4em;box-sizing: border-box;padding-bottom: 0.4em;background-color: white;}#sk-container-id-1 div.sk-label label {font-family: monospace;font-weight: bold;display: inline-block;line-height: 1.2em;}#sk-container-id-1 div.sk-label-container {text-align: center;}#sk-container-id-1 div.sk-container {/* jupyter's `normalize.less` sets `[hidden] { display: none; }` but bootstrap.min.css set `[hidden] { display: none !important; }` so we also need the `!important` here to be able to override the default hidden behavior on the sphinx rendered scikit-learn.org. See: https://github.com/scikit-learn/scikit-learn/issues/21755 */display: inline-block !important;position: relative;}#sk-container-id-1 div.sk-text-repr-fallback {display: none;}</style><div id=\"sk-container-id-1\" class=\"sk-top-container\"><div class=\"sk-text-repr-fallback\"><pre>LinearRegression()</pre><b>In a Jupyter environment, please rerun this cell to show the HTML representation or trust the notebook. <br />On GitHub, the HTML representation is unable to render, please try loading this page with nbviewer.org.</b></div><div class=\"sk-container\" hidden><div class=\"sk-item\"><div class=\"sk-estimator sk-toggleable\"><input class=\"sk-toggleable__control sk-hidden--visually\" id=\"sk-estimator-id-1\" type=\"checkbox\" checked><label for=\"sk-estimator-id-1\" class=\"sk-toggleable__label sk-toggleable__label-arrow\">LinearRegression</label><div class=\"sk-toggleable__content\"><pre>LinearRegression()</pre></div></div></div></div></div>"
            ]
          },
          "metadata": {},
          "execution_count": 27
        }
      ],
      "source": [
        "# 3단계: 학습하기\n",
        "model.fit(X_train, y_train)"
      ]
    },
    {
      "cell_type": "markdown",
      "source": [
        "현장에서는 최종 모델을 파일로 저장한다. 왜? 한번 돌리는데 너무 오래 걸리는 경우가 많아서\n"
      ],
      "metadata": {
        "id": "DeP1oFsiXSRR"
      }
    },
    {
      "cell_type": "code",
      "execution_count": 28,
      "metadata": {
        "id": "dYFmvmXzy1GD"
      },
      "outputs": [],
      "source": [
        "# 4단계: 예측하기\n",
        "y_pred = model.predict(X_test)"
      ]
    },
    {
      "cell_type": "code",
      "source": [
        "# 회귀 계수 확인\n",
        "print(list(X)) # x.colums로 해도 된다\n",
        "print(model.coef_) # 이건 y= ax +b 같은 거에서 a기울기\n",
        "print(model.intercept_)  # 이건 b 절편"
      ],
      "metadata": {
        "id": "fj2ttfSKy1GD",
        "colab": {
          "base_uri": "https://localhost:8080/"
        },
        "outputId": "84e8d610-7bf1-447e-852c-aa3aadefb48f"
      },
      "execution_count": 30,
      "outputs": [
        {
          "output_type": "stream",
          "name": "stdout",
          "text": [
            "['Solar.R', 'Wind', 'Temp']\n",
            "[ 0.05247327 -3.13436805  1.57528735]\n",
            "-60.529563567686466\n"
          ]
        }
      ]
    },
    {
      "cell_type": "code",
      "source": [
        "# 실젯값, 예측값 비교\n",
        "print(y_test.values[:10])\n",
        "print(y_pred[:10])"
      ],
      "metadata": {
        "id": "QHqhW5FVfu8_",
        "colab": {
          "base_uri": "https://localhost:8080/"
        },
        "outputId": "64843ee6-dade-40ff-9aec-1decb69d78f7"
      },
      "execution_count": 31,
      "outputs": [
        {
          "output_type": "stream",
          "name": "stdout",
          "text": [
            "[24 18 97 47 34 22 66 18 69 27]\n",
            "[15.69215011  7.24989582 80.80370563 58.3110736  50.39464118 32.20917413\n",
            " 66.14278521 -7.12579258 49.54925017 39.66027263]\n"
          ]
        }
      ]
    },
    {
      "cell_type": "code",
      "source": [
        "# 실젯값, 예측값 시각화\n",
        "plt.figure(figsize=(8, 5))\n",
        "plt.plot(y_test.values)\n",
        "plt.plot(y_pred)\n",
        "plt.axhline(y_test.mean(), color='r', linestyle='--')\n",
        "plt.legend(['Actual', 'Predicted'])\n",
        "plt.show()"
      ],
      "metadata": {
        "id": "pOLlyY6uf7Om",
        "colab": {
          "base_uri": "https://localhost:8080/",
          "height": 320
        },
        "outputId": "0242b93a-2ad7-4c76-ffb6-403ad24c39ad"
      },
      "execution_count": 32,
      "outputs": [
        {
          "output_type": "display_data",
          "data": {
            "text/plain": [
              "<Figure size 576x360 with 1 Axes>"
            ],
            "image/png": "[encoded data removed]"
          },
          "metadata": {
            "image/png": {
              "width": 487,
              "height": 303
            },
            "needs_background": "light"
          }
        }
      ]
    },
    {
      "cell_type": "markdown",
      "metadata": {
        "id": "Wg6kNaba0gg2"
      },
      "source": [
        "### **5.성능 평가**\n",
        "\n",
        "- 다양한 성능 지표로 회귀 모델 성능을 평가합니다."
      ]
    },
    {
      "cell_type": "markdown",
      "metadata": {
        "id": "hAodZbaD0gg_"
      },
      "source": [
        "**1) MAE(Mean Absolute Error)**\n",
        "\n",
        "\n",
        "$$\\large MAE=\\frac{1}{n}\\sum_{i=1}^{n}|y_{i}-\\hat{y}_{i}|$$"
      ]
    },
    {
      "cell_type": "markdown",
      "source": [
        "yi  = y_test\n",
        "y^i = y_pred"
      ],
      "metadata": {
        "id": "2RbpnPOrYkPb"
      }
    },
    {
      "cell_type": "code",
      "execution_count": 33,
      "metadata": {
        "id": "BuzAeLyu0ghA",
        "colab": {
          "base_uri": "https://localhost:8080/"
        },
        "outputId": "2e3fdfaf-2bd5-4963-a1ad-1e12cff5da90"
      },
      "outputs": [
        {
          "output_type": "stream",
          "name": "stdout",
          "text": [
            "MAE: 13.991255590035836\n"
          ]
        }
      ],
      "source": [
        "# 함수 불러오기\n",
        "from sklearn.metrics import mean_absolute_error\n",
        "\n",
        "# 성능 평가\n",
        "print('MAE:', mean_absolute_error(y_test, y_pred))"
      ]
    },
    {
      "cell_type": "markdown",
      "metadata": {
        "id": "qC9Ha_It0ghB"
      },
      "source": [
        "**2) MSE(Mean Squared Error)**\n",
        "\n",
        "$$\\large MSE=\\frac{1}{n}\\sum_{i=1}^{n}(y_{i}-\\hat{y}_{i})^2$$"
      ]
    },
    {
      "cell_type": "code",
      "execution_count": 34,
      "metadata": {
        "id": "6yiVlrRW0ghB",
        "colab": {
          "base_uri": "https://localhost:8080/"
        },
        "outputId": "7c595fdc-3b75-4209-a5aa-2171f34ea72e"
      },
      "outputs": [
        {
          "output_type": "stream",
          "name": "stdout",
          "text": [
            "MSE: 353.5571885505928\n"
          ]
        }
      ],
      "source": [
        "# 함수 불러오기\n",
        "from sklearn.metrics import mean_squared_error\n",
        "\n",
        "# 성능 평가\n",
        "print('MSE:', mean_squared_error(y_test, y_pred))"
      ]
    },
    {
      "cell_type": "markdown",
      "metadata": {
        "id": "Nce6fVOs0ghC"
      },
      "source": [
        "**3) RMSE(Root Mean Squared Error)**\n",
        "\n",
        "\n",
        "$$\\large RMSE=\\sqrt{\\frac{1}{n}\\sum_{i=1}^{n}(y_{i}-\\hat{y}_{i})^2}$$"
      ]
    },
    {
      "cell_type": "code",
      "execution_count": 35,
      "metadata": {
        "id": "vTIGt_nN0ghC",
        "colab": {
          "base_uri": "https://localhost:8080/"
        },
        "outputId": "614e708f-5050-4c65-fc3c-a0ca49f4af53"
      },
      "outputs": [
        {
          "output_type": "stream",
          "name": "stdout",
          "text": [
            "RMSE: 18.803116458464878\n"
          ]
        }
      ],
      "source": [
        "# 함수 불러오기\n",
        "from sklearn.metrics import mean_squared_error\n",
        "\n",
        "# 성능 평가\n",
        "print('RMSE:', mean_squared_error(y_test, y_pred)**(1/2))"
      ]
    },
    {
      "cell_type": "markdown",
      "metadata": {
        "id": "UAefIPWLLu8X"
      },
      "source": [
        "- 0.5 제곱 대신에 squared=False 옵션을 지정해도 됩니다."
      ]
    },
    {
      "cell_type": "code",
      "execution_count": 36,
      "metadata": {
        "id": "sI997faxLu8X",
        "colab": {
          "base_uri": "https://localhost:8080/"
        },
        "outputId": "7f28931d-ec8a-4177-f976-ccd7af8e120c"
      },
      "outputs": [
        {
          "output_type": "stream",
          "name": "stdout",
          "text": [
            "RMSE: 18.803116458464878\n"
          ]
        }
      ],
      "source": [
        "# 함수 불러오기\n",
        "from sklearn.metrics import mean_squared_error\n",
        "\n",
        "# 성능 평가\n",
        "print('RMSE:', mean_squared_error(y_test, y_pred, squared=False)) # squared 는 루트 씌우는것"
      ]
    },
    {
      "cell_type": "markdown",
      "metadata": {
        "id": "XuEDX2CY0ghE"
      },
      "source": [
        "**4) R2-Score**\n",
        "\n",
        "$$\\large R^2=\\frac{SSR}{SST}=1-\\frac{SSE}{SST}=1-\\frac{\\sum_{i=1}^{n}(y_{i}-\\hat{y}_{i})^2}{\\sum_{i=1}^{n}(y_{i}-\\bar{y}_{i})^2}$$"
      ]
    },
    {
      "cell_type": "code",
      "execution_count": 37,
      "metadata": {
        "id": "UP_JQ2f60ghF",
        "colab": {
          "base_uri": "https://localhost:8080/"
        },
        "outputId": "6b1a14ba-e9f3-4e23-b50f-ec5bcab74138"
      },
      "outputs": [
        {
          "output_type": "stream",
          "name": "stdout",
          "text": [
            "R2-Score: 0.5655647315840588\n"
          ]
        }
      ],
      "source": [
        "# 함수 불러오기\n",
        "from sklearn.metrics import r2_score\n",
        "\n",
        "# 성능 평가\n",
        "print('R2-Score:', r2_score(y_test, y_pred))"
      ]
    },
    {
      "cell_type": "markdown",
      "metadata": {
        "id": "rMMWKX2ALu8Y"
      },
      "source": [
        "- r2_score() 함수 대신에 **score()** 메소드를 사용할 수 있습니다.\n",
        "- 단 전달하는 값이 y_test, y_pred이 아닌 x_test, y_test 입니다."
      ]
    },
    {
      "cell_type": "code",
      "execution_count": 39,
      "metadata": {
        "id": "5D0A8NX6Lu8Y",
        "colab": {
          "base_uri": "https://localhost:8080/"
        },
        "outputId": "5a1e182a-2d98-48c7-f73f-22cd6b19acb5"
      },
      "outputs": [
        {
          "output_type": "stream",
          "name": "stdout",
          "text": [
            "학습 Score: 0.5824964839859238\n",
            "평가 Score: 0.5655647315840588\n"
          ]
        }
      ],
      "source": [
        "# 성능 평가 = R2\n",
        "print('학습 Score:', model.score(X_train, y_train)) # 학습도 할 수있다\n",
        "print('평가 Score:', model.score(X_test, y_test))"
      ]
    },
    {
      "cell_type": "markdown",
      "source": [
        "**만일**\n",
        "\n",
        "- 성능 평가 전에 모델의 성능을 확인하고 싶다면 **K-분할 교차검증(K-Fold Cross Validation)**을 사용합니다.\n",
        "- **cross_val_score** 함수를 사용해 모델의 성능을 예측할 수 있습니다.\n"
      ],
      "metadata": {
        "id": "uJSCxOBvZ7YT"
      }
    },
    {
      "cell_type": "code",
      "source": [
        "# 함수 불러오기\n",
        "from sklearn.model_selection import cross_val_score\n",
        "\n",
        "# 모델 성능 예측\n",
        "model = LinearRegression()\n",
        "cv_score = cross_val_score(model, X_train, y_train, cv=5, scoring='r2')\n",
        "\n",
        "# 성능 확인\n",
        "print(cv_score)\n",
        "print('평균:', cv_score.mean())"
      ],
      "metadata": {
        "id": "EupalXStaLHv",
        "colab": {
          "base_uri": "https://localhost:8080/"
        },
        "outputId": "5e15795c-cf23-4948-dd42-45a1821f054b"
      },
      "execution_count": 41,
      "outputs": [
        {
          "output_type": "stream",
          "name": "stdout",
          "text": [
            "[0.69370571 0.26871915 0.6774972  0.3982206  0.59788068]\n",
            "평균: 0.5272046690133421\n"
          ]
        }
      ]
    },
    {
      "cell_type": "markdown",
      "source": [
        "### **6.기타**\n",
        "\n",
        "- Linear Regression은 OOOOO OO 수록 모델이 복잡해집니다. -> **독립변수가 많을**\n",
        "- 모델이 너무 복잡해 지면 OOOO이 발생할 수 있습니다. -> **과대적합**\n",
        "- 이를 해결하는 방법 중 하나로 다음과 같은 알고리즘을 사용할 수 있습니다. "
      ],
      "metadata": {
        "id": "eNNeJQBxeAqb"
      }
    },
    {
      "cell_type": "markdown",
      "metadata": {
        "id": "b2DgOKPWm6-b"
      },
      "source": [
        "**1) Ridge**\n",
        "\n",
        "- Ridge 알고리즘을 사용하면 변수들의 가중치 크기를 제어할 수 있습니다.\n",
        "- 그렇다고 특정 변수의 가중치를 0으로 바꾸지는 않습니다.\n",
        "- 적절한 $\\lambda$(람다)값 설정이 필요합니다.\n",
        "\n",
        "$$ \\large cost=\\sum_{i=1}^{n}(y_i-\\hat y)^2+\\lambda\\sum_{j=1}^{p}(w_j)^2 $$"
      ]
    },
    {
      "cell_type": "markdown",
      "metadata": {
        "id": "0IZD27Tsm1UL"
      },
      "source": [
        "**2) Lasso**\n",
        "\n",
        "- Lasso 알고리즘을 사용하면 중요하지 않은 변수의 가중치를 0으로 바꿀 수 있습니다.\n",
        "- 이를 통해 불필요한 변수들을 제거할 수 있습니다. \n",
        "- 적절한 $\\lambda$(람다)값 설정이 필요합니다.\n",
        "\n",
        "$$ \\large cost=\\sum_{i=1}^{n}(y_i-\\hat y)^2+\\lambda\\sum_{j=1}^{p}|w_j| $$"
      ]
    },
    {
      "cell_type": "markdown",
      "metadata": {
        "id": "4BibOESSmyf-"
      },
      "source": [
        "**3) ElasticNet**\n",
        "\n",
        "- ElasticNet 알고리즘을 사용하면 Ridge와 Lasso 기능을 같이 사용할 수 있습니다.\n",
        "- 적절한 $\\lambda$(람다), $\\gamma$(감마)값 설정이 필요합니다.\n",
        "\n",
        "$$ \\large cost=\\sum_{i=1}^{n}(y_i-\\hat y)^2+\\gamma\\lambda\\sum_{j=1}^{p}|w_j|+\\frac{1-\\gamma}{2}\\lambda\\sum_{j=1}^{p}(w_j)^2 $$"
      ]
    },
    {
      "cell_type": "markdown",
      "source": [
        "# **B.분류 모델**\n",
        "\n",
        "- Logistic Regression 알고리즘으로 분류 모델을 만듭니다."
      ],
      "metadata": {
        "id": "u9Tsl_JocoV5"
      }
    },
    {
      "cell_type": "markdown",
      "metadata": {
        "id": "z_q47mPvof9p"
      },
      "source": [
        "### **1.환경 준비**\n",
        "\n",
        "- 기본 **라이브러리**와 대상 **데이터**를 가져와 이후 과정을 준비합니다."
      ]
    },
    {
      "cell_type": "markdown",
      "metadata": {
        "id": "hZf7teQOof9p"
      },
      "source": [
        "<img src = \"https://github.com/Jangrae/img/blob/master/code_11.png?raw=true\" width=600 align=\"left\"/>"
      ]
    },
    {
      "cell_type": "code",
      "execution_count": 42,
      "metadata": {
        "id": "IVA4UIIuof9q",
        "scrolled": true
      },
      "outputs": [],
      "source": [
        "# 라이브러리 불러오기\n",
        "import numpy as np\n",
        "import pandas as pd\n",
        "import matplotlib.pyplot as plt\n",
        "import seaborn as sns\n",
        "import warnings\n",
        "\n",
        "warnings.filterwarnings(action='ignore')\n",
        "%config InlineBackend.figure_format = 'retina'"
      ]
    },
    {
      "cell_type": "code",
      "execution_count": 43,
      "metadata": {
        "id": "VXEbdYrxof9s"
      },
      "outputs": [],
      "source": [
        "# 데이터 읽어오기\n",
        "path = 'https://raw.githubusercontent.com/Jangrae/csv/master/admission_simple.csv'\n",
        "data = pd.read_csv(path)"
      ]
    },
    {
      "cell_type": "markdown",
      "metadata": {
        "id": "LzLX2CJ6of9t"
      },
      "source": [
        "### **2.데이터 이해**\n",
        "\n",
        "- 분석할 데이터를 **충분히 이해**할 수 있도록 다양한 **탐색** 과정을 수행합니다."
      ]
    },
    {
      "cell_type": "markdown",
      "metadata": {
        "id": "Qd5dCs3Yof9t"
      },
      "source": [
        "<img src = \"https://github.com/Jangrae/img/blob/master/code_12.png?raw=true\" width=600 align=\"left\"/>"
      ]
    },
    {
      "cell_type": "code",
      "execution_count": 44,
      "metadata": {
        "id": "y5yX1hB0zm52",
        "colab": {
          "base_uri": "https://localhost:8080/",
          "height": 206
        },
        "outputId": "a7f1b4bd-d8b7-49be-a3dd-f4373d85f24b"
      },
      "outputs": [
        {
          "output_type": "execute_result",
          "data": {
            "text/plain": [
              "   GRE  TOEFL  RANK  SOP  LOR   GPA  RESEARCH  ADMIT\n",
              "0  337    118     4  4.5  4.5  9.65         1      1\n",
              "1  324    107     4  4.0  4.5  8.87         1      1\n",
              "2  316    104     3  3.0  3.5  8.00         1      0\n",
              "3  322    110     3  3.5  2.5  8.67         1      1\n",
              "4  314    103     2  2.0  3.0  8.21         0      0"
            ],
            "text/html": [
              "\n",
              "  <div id=\"df-421adda6-0554-4dae-8a65-49c51ae81099\">\n",
              "    <div class=\"colab-df-container\">\n",
              "      <div>\n",
              "<style scoped>\n",
              "    .dataframe tbody tr th:only-of-type {\n",
              "        vertical-align: middle;\n",
              "    }\n",
              "\n",
              "    .dataframe tbody tr th {\n",
              "        vertical-align: top;\n",
              "    }\n",
              "\n",
              "    .dataframe thead th {\n",
              "        text-align: right;\n",
              "    }\n",
              "</style>\n",
              "<table border=\"1\" class=\"dataframe\">\n",
              "  <thead>\n",
              "    <tr style=\"text-align: right;\">\n",
              "      <th></th>\n",
              "      <th>GRE</th>\n",
              "      <th>TOEFL</th>\n",
              "      <th>RANK</th>\n",
              "      <th>SOP</th>\n",
              "      <th>LOR</th>\n",
              "      <th>GPA</th>\n",
              "      <th>RESEARCH</th>\n",
              "      <th>ADMIT</th>\n",
              "    </tr>\n",
              "  </thead>\n",
              "  <tbody>\n",
              "    <tr>\n",
              "      <th>0</th>\n",
              "      <td>337</td>\n",
              "      <td>118</td>\n",
              "      <td>4</td>\n",
              "      <td>4.5</td>\n",
              "      <td>4.5</td>\n",
              "      <td>9.65</td>\n",
              "      <td>1</td>\n",
              "      <td>1</td>\n",
              "    </tr>\n",
              "    <tr>\n",
              "      <th>1</th>\n",
              "      <td>324</td>\n",
              "      <td>107</td>\n",
              "      <td>4</td>\n",
              "      <td>4.0</td>\n",
              "      <td>4.5</td>\n",
              "      <td>8.87</td>\n",
              "      <td>1</td>\n",
              "      <td>1</td>\n",
              "    </tr>\n",
              "    <tr>\n",
              "      <th>2</th>\n",
              "      <td>316</td>\n",
              "      <td>104</td>\n",
              "      <td>3</td>\n",
              "      <td>3.0</td>\n",
              "      <td>3.5</td>\n",
              "      <td>8.00</td>\n",
              "      <td>1</td>\n",
              "      <td>0</td>\n",
              "    </tr>\n",
              "    <tr>\n",
              "      <th>3</th>\n",
              "      <td>322</td>\n",
              "      <td>110</td>\n",
              "      <td>3</td>\n",
              "      <td>3.5</td>\n",
              "      <td>2.5</td>\n",
              "      <td>8.67</td>\n",
              "      <td>1</td>\n",
              "      <td>1</td>\n",
              "    </tr>\n",
              "    <tr>\n",
              "      <th>4</th>\n",
              "      <td>314</td>\n",
              "      <td>103</td>\n",
              "      <td>2</td>\n",
              "      <td>2.0</td>\n",
              "      <td>3.0</td>\n",
              "      <td>8.21</td>\n",
              "      <td>0</td>\n",
              "      <td>0</td>\n",
              "    </tr>\n",
              "  </tbody>\n",
              "</table>\n",
              "</div>\n",
              "      <button class=\"colab-df-convert\" onclick=\"convertToInteractive('df-421adda6-0554-4dae-8a65-49c51ae81099')\"\n",
              "              title=\"Convert this dataframe to an interactive table.\"\n",
              "              style=\"display:none;\">\n",
              "        \n",
              "  <svg xmlns=\"http://www.w3.org/2000/svg\" height=\"24px\"viewBox=\"0 0 24 24\"\n",
              "       width=\"24px\">\n",
              "    <path d=\"M0 0h24v24H0V0z\" fill=\"none\"/>\n",
              "    <path d=\"M18.56 5.44l.94 2.06.94-2.06 2.06-.94-2.06-.94-.94-2.06-.94 2.06-2.06.94zm-11 1L8.5 8.5l.94-2.06 2.06-.94-2.06-.94L8.5 2.5l-.94 2.06-2.06.94zm10 10l.94 2.06.94-2.06 2.06-.94-2.06-.94-.94-2.06-.94 2.06-2.06.94z\"/><path d=\"M17.41 7.96l-1.37-1.37c-.4-.4-.92-.59-1.43-.59-.52 0-1.04.2-1.43.59L10.3 9.45l-7.72 7.72c-.78.78-.78 2.05 0 2.83L4 21.41c.39.39.9.59 1.41.59.51 0 1.02-.2 1.41-.59l7.78-7.78 2.81-2.81c.8-.78.8-2.07 0-2.86zM5.41 20L4 18.59l7.72-7.72 1.47 1.35L5.41 20z\"/>\n",
              "  </svg>\n",
              "      </button>\n",
              "      \n",
              "  <style>\n",
              "    .colab-df-container {\n",
              "      display:flex;\n",
              "      flex-wrap:wrap;\n",
              "      gap: 12px;\n",
              "    }\n",
              "\n",
              "    .colab-df-convert {\n",
              "      background-color: #E8F0FE;\n",
              "      border: none;\n",
              "      border-radius: 50%;\n",
              "      cursor: pointer;\n",
              "      display: none;\n",
              "      fill: #1967D2;\n",
              "      height: 32px;\n",
              "      padding: 0 0 0 0;\n",
              "      width: 32px;\n",
              "    }\n",
              "\n",
              "    .colab-df-convert:hover {\n",
              "      background-color: #E2EBFA;\n",
              "      box-shadow: 0px 1px 2px rgba(60, 64, 67, 0.3), 0px 1px 3px 1px rgba(60, 64, 67, 0.15);\n",
              "      fill: #174EA6;\n",
              "    }\n",
              "\n",
              "    [theme=dark] .colab-df-convert {\n",
              "      background-color: #3B4455;\n",
              "      fill: #D2E3FC;\n",
              "    }\n",
              "\n",
              "    [theme=dark] .colab-df-convert:hover {\n",
              "      background-color: #434B5C;\n",
              "      box-shadow: 0px 1px 3px 1px rgba(0, 0, 0, 0.15);\n",
              "      filter: drop-shadow(0px 1px 2px rgba(0, 0, 0, 0.3));\n",
              "      fill: #FFFFFF;\n",
              "    }\n",
              "  </style>\n",
              "\n",
              "      <script>\n",
              "        const buttonEl =\n",
              "          document.querySelector('#df-421adda6-0554-4dae-8a65-49c51ae81099 button.colab-df-convert');\n",
              "        buttonEl.style.display =\n",
              "          google.colab.kernel.accessAllowed ? 'block' : 'none';\n",
              "\n",
              "        async function convertToInteractive(key) {\n",
              "          const element = document.querySelector('#df-421adda6-0554-4dae-8a65-49c51ae81099');\n",
              "          const dataTable =\n",
              "            await google.colab.kernel.invokeFunction('convertToInteractive',\n",
              "                                                     [key], {});\n",
              "          if (!dataTable) return;\n",
              "\n",
              "          const docLinkHtml = 'Like what you see? Visit the ' +\n",
              "            '<a target=\"_blank\" href=https://colab.research.google.com/notebooks/data_table.ipynb>data table notebook</a>'\n",
              "            + ' to learn more about interactive tables.';\n",
              "          element.innerHTML = '';\n",
              "          dataTable['output_type'] = 'display_data';\n",
              "          await google.colab.output.renderOutput(dataTable, element);\n",
              "          const docLink = document.createElement('div');\n",
              "          docLink.innerHTML = docLinkHtml;\n",
              "          element.appendChild(docLink);\n",
              "        }\n",
              "      </script>\n",
              "    </div>\n",
              "  </div>\n",
              "  "
            ]
          },
          "metadata": {},
          "execution_count": 44
        }
      ],
      "source": [
        "# 상/하위 몇 개 행 확인\n",
        "data.head()"
      ]
    },
    {
      "cell_type": "code",
      "execution_count": 45,
      "metadata": {
        "id": "kYO2hDtPzm53",
        "colab": {
          "base_uri": "https://localhost:8080/",
          "height": 206
        },
        "outputId": "3d9eb3ca-880f-4199-803e-d1a8c38fc8bf"
      },
      "outputs": [
        {
          "output_type": "execute_result",
          "data": {
            "text/plain": [
              "     GRE  TOEFL  RANK  SOP  LOR   GPA  RESEARCH  ADMIT\n",
              "495  332    108     5  4.5  4.0  9.02         1      1\n",
              "496  337    117     5  5.0  5.0  9.87         1      1\n",
              "497  330    120     5  4.5  5.0  9.56         1      1\n",
              "498  312    103     4  4.0  5.0  8.43         0      0\n",
              "499  327    113     4  4.5  4.5  9.04         0      1"
            ],
            "text/html": [
              "\n",
              "  <div id=\"df-55a8b10d-6645-43ac-9168-bc3a8f477d2b\">\n",
              "    <div class=\"colab-df-container\">\n",
              "      <div>\n",
              "<style scoped>\n",
              "    .dataframe tbody tr th:only-of-type {\n",
              "        vertical-align: middle;\n",
              "    }\n",
              "\n",
              "    .dataframe tbody tr th {\n",
              "        vertical-align: top;\n",
              "    }\n",
              "\n",
              "    .dataframe thead th {\n",
              "        text-align: right;\n",
              "    }\n",
              "</style>\n",
              "<table border=\"1\" class=\"dataframe\">\n",
              "  <thead>\n",
              "    <tr style=\"text-align: right;\">\n",
              "      <th></th>\n",
              "      <th>GRE</th>\n",
              "      <th>TOEFL</th>\n",
              "      <th>RANK</th>\n",
              "      <th>SOP</th>\n",
              "      <th>LOR</th>\n",
              "      <th>GPA</th>\n",
              "      <th>RESEARCH</th>\n",
              "      <th>ADMIT</th>\n",
              "    </tr>\n",
              "  </thead>\n",
              "  <tbody>\n",
              "    <tr>\n",
              "      <th>495</th>\n",
              "      <td>332</td>\n",
              "      <td>108</td>\n",
              "      <td>5</td>\n",
              "      <td>4.5</td>\n",
              "      <td>4.0</td>\n",
              "      <td>9.02</td>\n",
              "      <td>1</td>\n",
              "      <td>1</td>\n",
              "    </tr>\n",
              "    <tr>\n",
              "      <th>496</th>\n",
              "      <td>337</td>\n",
              "      <td>117</td>\n",
              "      <td>5</td>\n",
              "      <td>5.0</td>\n",
              "      <td>5.0</td>\n",
              "      <td>9.87</td>\n",
              "      <td>1</td>\n",
              "      <td>1</td>\n",
              "    </tr>\n",
              "    <tr>\n",
              "      <th>497</th>\n",
              "      <td>330</td>\n",
              "      <td>120</td>\n",
              "      <td>5</td>\n",
              "      <td>4.5</td>\n",
              "      <td>5.0</td>\n",
              "      <td>9.56</td>\n",
              "      <td>1</td>\n",
              "      <td>1</td>\n",
              "    </tr>\n",
              "    <tr>\n",
              "      <th>498</th>\n",
              "      <td>312</td>\n",
              "      <td>103</td>\n",
              "      <td>4</td>\n",
              "      <td>4.0</td>\n",
              "      <td>5.0</td>\n",
              "      <td>8.43</td>\n",
              "      <td>0</td>\n",
              "      <td>0</td>\n",
              "    </tr>\n",
              "    <tr>\n",
              "      <th>499</th>\n",
              "      <td>327</td>\n",
              "      <td>113</td>\n",
              "      <td>4</td>\n",
              "      <td>4.5</td>\n",
              "      <td>4.5</td>\n",
              "      <td>9.04</td>\n",
              "      <td>0</td>\n",
              "      <td>1</td>\n",
              "    </tr>\n",
              "  </tbody>\n",
              "</table>\n",
              "</div>\n",
              "      <button class=\"colab-df-convert\" onclick=\"convertToInteractive('df-55a8b10d-6645-43ac-9168-bc3a8f477d2b')\"\n",
              "              title=\"Convert this dataframe to an interactive table.\"\n",
              "              style=\"display:none;\">\n",
              "        \n",
              "  <svg xmlns=\"http://www.w3.org/2000/svg\" height=\"24px\"viewBox=\"0 0 24 24\"\n",
              "       width=\"24px\">\n",
              "    <path d=\"M0 0h24v24H0V0z\" fill=\"none\"/>\n",
              "    <path d=\"M18.56 5.44l.94 2.06.94-2.06 2.06-.94-2.06-.94-.94-2.06-.94 2.06-2.06.94zm-11 1L8.5 8.5l.94-2.06 2.06-.94-2.06-.94L8.5 2.5l-.94 2.06-2.06.94zm10 10l.94 2.06.94-2.06 2.06-.94-2.06-.94-.94-2.06-.94 2.06-2.06.94z\"/><path d=\"M17.41 7.96l-1.37-1.37c-.4-.4-.92-.59-1.43-.59-.52 0-1.04.2-1.43.59L10.3 9.45l-7.72 7.72c-.78.78-.78 2.05 0 2.83L4 21.41c.39.39.9.59 1.41.59.51 0 1.02-.2 1.41-.59l7.78-7.78 2.81-2.81c.8-.78.8-2.07 0-2.86zM5.41 20L4 18.59l7.72-7.72 1.47 1.35L5.41 20z\"/>\n",
              "  </svg>\n",
              "      </button>\n",
              "      \n",
              "  <style>\n",
              "    .colab-df-container {\n",
              "      display:flex;\n",
              "      flex-wrap:wrap;\n",
              "      gap: 12px;\n",
              "    }\n",
              "\n",
              "    .colab-df-convert {\n",
              "      background-color: #E8F0FE;\n",
              "      border: none;\n",
              "      border-radius: 50%;\n",
              "      cursor: pointer;\n",
              "      display: none;\n",
              "      fill: #1967D2;\n",
              "      height: 32px;\n",
              "      padding: 0 0 0 0;\n",
              "      width: 32px;\n",
              "    }\n",
              "\n",
              "    .colab-df-convert:hover {\n",
              "      background-color: #E2EBFA;\n",
              "      box-shadow: 0px 1px 2px rgba(60, 64, 67, 0.3), 0px 1px 3px 1px rgba(60, 64, 67, 0.15);\n",
              "      fill: #174EA6;\n",
              "    }\n",
              "\n",
              "    [theme=dark] .colab-df-convert {\n",
              "      background-color: #3B4455;\n",
              "      fill: #D2E3FC;\n",
              "    }\n",
              "\n",
              "    [theme=dark] .colab-df-convert:hover {\n",
              "      background-color: #434B5C;\n",
              "      box-shadow: 0px 1px 3px 1px rgba(0, 0, 0, 0.15);\n",
              "      filter: drop-shadow(0px 1px 2px rgba(0, 0, 0, 0.3));\n",
              "      fill: #FFFFFF;\n",
              "    }\n",
              "  </style>\n",
              "\n",
              "      <script>\n",
              "        const buttonEl =\n",
              "          document.querySelector('#df-55a8b10d-6645-43ac-9168-bc3a8f477d2b button.colab-df-convert');\n",
              "        buttonEl.style.display =\n",
              "          google.colab.kernel.accessAllowed ? 'block' : 'none';\n",
              "\n",
              "        async function convertToInteractive(key) {\n",
              "          const element = document.querySelector('#df-55a8b10d-6645-43ac-9168-bc3a8f477d2b');\n",
              "          const dataTable =\n",
              "            await google.colab.kernel.invokeFunction('convertToInteractive',\n",
              "                                                     [key], {});\n",
              "          if (!dataTable) return;\n",
              "\n",
              "          const docLinkHtml = 'Like what you see? Visit the ' +\n",
              "            '<a target=\"_blank\" href=https://colab.research.google.com/notebooks/data_table.ipynb>data table notebook</a>'\n",
              "            + ' to learn more about interactive tables.';\n",
              "          element.innerHTML = '';\n",
              "          dataTable['output_type'] = 'display_data';\n",
              "          await google.colab.output.renderOutput(dataTable, element);\n",
              "          const docLink = document.createElement('div');\n",
              "          docLink.innerHTML = docLinkHtml;\n",
              "          element.appendChild(docLink);\n",
              "        }\n",
              "      </script>\n",
              "    </div>\n",
              "  </div>\n",
              "  "
            ]
          },
          "metadata": {},
          "execution_count": 45
        }
      ],
      "source": [
        "# 하위 몇 개 행 확인\n",
        "data.tail()"
      ]
    },
    {
      "cell_type": "code",
      "execution_count": 46,
      "metadata": {
        "id": "5kmTKIlYzm53",
        "colab": {
          "base_uri": "https://localhost:8080/"
        },
        "outputId": "9a13a7ed-edd3-4a42-e3c6-e591793d04c5"
      },
      "outputs": [
        {
          "output_type": "stream",
          "name": "stdout",
          "text": [
            "<class 'pandas.core.frame.DataFrame'>\n",
            "RangeIndex: 500 entries, 0 to 499\n",
            "Data columns (total 8 columns):\n",
            " #   Column    Non-Null Count  Dtype  \n",
            "---  ------    --------------  -----  \n",
            " 0   GRE       500 non-null    int64  \n",
            " 1   TOEFL     500 non-null    int64  \n",
            " 2   RANK      500 non-null    int64  \n",
            " 3   SOP       500 non-null    float64\n",
            " 4   LOR       500 non-null    float64\n",
            " 5   GPA       500 non-null    float64\n",
            " 6   RESEARCH  500 non-null    int64  \n",
            " 7   ADMIT     500 non-null    int64  \n",
            "dtypes: float64(3), int64(5)\n",
            "memory usage: 31.4 KB\n"
          ]
        }
      ],
      "source": [
        "# 변수 정보(변수 이름, 데이터 형식, 개수 등) 확인\n",
        "data.info()"
      ]
    },
    {
      "cell_type": "code",
      "execution_count": 47,
      "metadata": {
        "id": "LNGZlowIzm53",
        "colab": {
          "base_uri": "https://localhost:8080/",
          "height": 300
        },
        "outputId": "e17004ce-d263-4942-8e02-d2647157f7b1"
      },
      "outputs": [
        {
          "output_type": "execute_result",
          "data": {
            "text/plain": [
              "              GRE       TOEFL        RANK         SOP        LOR         GPA  \\\n",
              "count  500.000000  500.000000  500.000000  500.000000  500.00000  500.000000   \n",
              "mean   316.472000  107.192000    3.114000    3.374000    3.48400    8.576440   \n",
              "std     11.295148    6.081868    1.143512    0.991004    0.92545    0.604813   \n",
              "min    290.000000   92.000000    1.000000    1.000000    1.00000    6.800000   \n",
              "25%    308.000000  103.000000    2.000000    2.500000    3.00000    8.127500   \n",
              "50%    317.000000  107.000000    3.000000    3.500000    3.50000    8.560000   \n",
              "75%    325.000000  112.000000    4.000000    4.000000    4.00000    9.040000   \n",
              "max    340.000000  120.000000    5.000000    5.000000    5.00000    9.920000   \n",
              "\n",
              "         RESEARCH       ADMIT  \n",
              "count  500.000000  500.000000  \n",
              "mean     0.560000    0.436000  \n",
              "std      0.496884    0.496384  \n",
              "min      0.000000    0.000000  \n",
              "25%      0.000000    0.000000  \n",
              "50%      1.000000    0.000000  \n",
              "75%      1.000000    1.000000  \n",
              "max      1.000000    1.000000  "
            ],
            "text/html": [
              "\n",
              "  <div id=\"df-8b9b6ba3-f37a-482b-9a5e-04214f71308e\">\n",
              "    <div class=\"colab-df-container\">\n",
              "      <div>\n",
              "<style scoped>\n",
              "    .dataframe tbody tr th:only-of-type {\n",
              "        vertical-align: middle;\n",
              "    }\n",
              "\n",
              "    .dataframe tbody tr th {\n",
              "        vertical-align: top;\n",
              "    }\n",
              "\n",
              "    .dataframe thead th {\n",
              "        text-align: right;\n",
              "    }\n",
              "</style>\n",
              "<table border=\"1\" class=\"dataframe\">\n",
              "  <thead>\n",
              "    <tr style=\"text-align: right;\">\n",
              "      <th></th>\n",
              "      <th>GRE</th>\n",
              "      <th>TOEFL</th>\n",
              "      <th>RANK</th>\n",
              "      <th>SOP</th>\n",
              "      <th>LOR</th>\n",
              "      <th>GPA</th>\n",
              "      <th>RESEARCH</th>\n",
              "      <th>ADMIT</th>\n",
              "    </tr>\n",
              "  </thead>\n",
              "  <tbody>\n",
              "    <tr>\n",
              "      <th>count</th>\n",
              "      <td>500.000000</td>\n",
              "      <td>500.000000</td>\n",
              "      <td>500.000000</td>\n",
              "      <td>500.000000</td>\n",
              "      <td>500.00000</td>\n",
              "      <td>500.000000</td>\n",
              "      <td>500.000000</td>\n",
              "      <td>500.000000</td>\n",
              "    </tr>\n",
              "    <tr>\n",
              "      <th>mean</th>\n",
              "      <td>316.472000</td>\n",
              "      <td>107.192000</td>\n",
              "      <td>3.114000</td>\n",
              "      <td>3.374000</td>\n",
              "      <td>3.48400</td>\n",
              "      <td>8.576440</td>\n",
              "      <td>0.560000</td>\n",
              "      <td>0.436000</td>\n",
              "    </tr>\n",
              "    <tr>\n",
              "      <th>std</th>\n",
              "      <td>11.295148</td>\n",
              "      <td>6.081868</td>\n",
              "      <td>1.143512</td>\n",
              "      <td>0.991004</td>\n",
              "      <td>0.92545</td>\n",
              "      <td>0.604813</td>\n",
              "      <td>0.496884</td>\n",
              "      <td>0.496384</td>\n",
              "    </tr>\n",
              "    <tr>\n",
              "      <th>min</th>\n",
              "      <td>290.000000</td>\n",
              "      <td>92.000000</td>\n",
              "      <td>1.000000</td>\n",
              "      <td>1.000000</td>\n",
              "      <td>1.00000</td>\n",
              "      <td>6.800000</td>\n",
              "      <td>0.000000</td>\n",
              "      <td>0.000000</td>\n",
              "    </tr>\n",
              "    <tr>\n",
              "      <th>25%</th>\n",
              "      <td>308.000000</td>\n",
              "      <td>103.000000</td>\n",
              "      <td>2.000000</td>\n",
              "      <td>2.500000</td>\n",
              "      <td>3.00000</td>\n",
              "      <td>8.127500</td>\n",
              "      <td>0.000000</td>\n",
              "      <td>0.000000</td>\n",
              "    </tr>\n",
              "    <tr>\n",
              "      <th>50%</th>\n",
              "      <td>317.000000</td>\n",
              "      <td>107.000000</td>\n",
              "      <td>3.000000</td>\n",
              "      <td>3.500000</td>\n",
              "      <td>3.50000</td>\n",
              "      <td>8.560000</td>\n",
              "      <td>1.000000</td>\n",
              "      <td>0.000000</td>\n",
              "    </tr>\n",
              "    <tr>\n",
              "      <th>75%</th>\n",
              "      <td>325.000000</td>\n",
              "      <td>112.000000</td>\n",
              "      <td>4.000000</td>\n",
              "      <td>4.000000</td>\n",
              "      <td>4.00000</td>\n",
              "      <td>9.040000</td>\n",
              "      <td>1.000000</td>\n",
              "      <td>1.000000</td>\n",
              "    </tr>\n",
              "    <tr>\n",
              "      <th>max</th>\n",
              "      <td>340.000000</td>\n",
              "      <td>120.000000</td>\n",
              "      <td>5.000000</td>\n",
              "      <td>5.000000</td>\n",
              "      <td>5.00000</td>\n",
              "      <td>9.920000</td>\n",
              "      <td>1.000000</td>\n",
              "      <td>1.000000</td>\n",
              "    </tr>\n",
              "  </tbody>\n",
              "</table>\n",
              "</div>\n",
              "      <button class=\"colab-df-convert\" onclick=\"convertToInteractive('df-8b9b6ba3-f37a-482b-9a5e-04214f71308e')\"\n",
              "              title=\"Convert this dataframe to an interactive table.\"\n",
              "              style=\"display:none;\">\n",
              "        \n",
              "  <svg xmlns=\"http://www.w3.org/2000/svg\" height=\"24px\"viewBox=\"0 0 24 24\"\n",
              "       width=\"24px\">\n",
              "    <path d=\"M0 0h24v24H0V0z\" fill=\"none\"/>\n",
              "    <path d=\"M18.56 5.44l.94 2.06.94-2.06 2.06-.94-2.06-.94-.94-2.06-.94 2.06-2.06.94zm-11 1L8.5 8.5l.94-2.06 2.06-.94-2.06-.94L8.5 2.5l-.94 2.06-2.06.94zm10 10l.94 2.06.94-2.06 2.06-.94-2.06-.94-.94-2.06-.94 2.06-2.06.94z\"/><path d=\"M17.41 7.96l-1.37-1.37c-.4-.4-.92-.59-1.43-.59-.52 0-1.04.2-1.43.59L10.3 9.45l-7.72 7.72c-.78.78-.78 2.05 0 2.83L4 21.41c.39.39.9.59 1.41.59.51 0 1.02-.2 1.41-.59l7.78-7.78 2.81-2.81c.8-.78.8-2.07 0-2.86zM5.41 20L4 18.59l7.72-7.72 1.47 1.35L5.41 20z\"/>\n",
              "  </svg>\n",
              "      </button>\n",
              "      \n",
              "  <style>\n",
              "    .colab-df-container {\n",
              "      display:flex;\n",
              "      flex-wrap:wrap;\n",
              "      gap: 12px;\n",
              "    }\n",
              "\n",
              "    .colab-df-convert {\n",
              "      background-color: #E8F0FE;\n",
              "      border: none;\n",
              "      border-radius: 50%;\n",
              "      cursor: pointer;\n",
              "      display: none;\n",
              "      fill: #1967D2;\n",
              "      height: 32px;\n",
              "      padding: 0 0 0 0;\n",
              "      width: 32px;\n",
              "    }\n",
              "\n",
              "    .colab-df-convert:hover {\n",
              "      background-color: #E2EBFA;\n",
              "      box-shadow: 0px 1px 2px rgba(60, 64, 67, 0.3), 0px 1px 3px 1px rgba(60, 64, 67, 0.15);\n",
              "      fill: #174EA6;\n",
              "    }\n",
              "\n",
              "    [theme=dark] .colab-df-convert {\n",
              "      background-color: #3B4455;\n",
              "      fill: #D2E3FC;\n",
              "    }\n",
              "\n",
              "    [theme=dark] .colab-df-convert:hover {\n",
              "      background-color: #434B5C;\n",
              "      box-shadow: 0px 1px 3px 1px rgba(0, 0, 0, 0.15);\n",
              "      filter: drop-shadow(0px 1px 2px rgba(0, 0, 0, 0.3));\n",
              "      fill: #FFFFFF;\n",
              "    }\n",
              "  </style>\n",
              "\n",
              "      <script>\n",
              "        const buttonEl =\n",
              "          document.querySelector('#df-8b9b6ba3-f37a-482b-9a5e-04214f71308e button.colab-df-convert');\n",
              "        buttonEl.style.display =\n",
              "          google.colab.kernel.accessAllowed ? 'block' : 'none';\n",
              "\n",
              "        async function convertToInteractive(key) {\n",
              "          const element = document.querySelector('#df-8b9b6ba3-f37a-482b-9a5e-04214f71308e');\n",
              "          const dataTable =\n",
              "            await google.colab.kernel.invokeFunction('convertToInteractive',\n",
              "                                                     [key], {});\n",
              "          if (!dataTable) return;\n",
              "\n",
              "          const docLinkHtml = 'Like what you see? Visit the ' +\n",
              "            '<a target=\"_blank\" href=https://colab.research.google.com/notebooks/data_table.ipynb>data table notebook</a>'\n",
              "            + ' to learn more about interactive tables.';\n",
              "          element.innerHTML = '';\n",
              "          dataTable['output_type'] = 'display_data';\n",
              "          await google.colab.output.renderOutput(dataTable, element);\n",
              "          const docLink = document.createElement('div');\n",
              "          docLink.innerHTML = docLinkHtml;\n",
              "          element.appendChild(docLink);\n",
              "        }\n",
              "      </script>\n",
              "    </div>\n",
              "  </div>\n",
              "  "
            ]
          },
          "metadata": {},
          "execution_count": 47
        }
      ],
      "source": [
        "# 기술통계 확인\n",
        "data.describe()"
      ]
    },
    {
      "cell_type": "code",
      "execution_count": 50,
      "metadata": {
        "id": "Merf8eOjzm53",
        "colab": {
          "base_uri": "https://localhost:8080/"
        },
        "outputId": "7d4c39a5-330a-43e1-9dbc-2ccff3995d2a"
      },
      "outputs": [
        {
          "output_type": "execute_result",
          "data": {
            "text/plain": [
              "0    282\n",
              "1    218\n",
              "Name: ADMIT, dtype: int64"
            ]
          },
          "metadata": {},
          "execution_count": 50
        }
      ],
      "source": [
        "# Target 분포 확인\n",
        "data['ADMIT'].value_counts()"
      ]
    },
    {
      "cell_type": "code",
      "source": [
        "# Target 분포 시각화\n",
        "plt.figure(figsize=(8, 5))\n",
        "sns.countplot(x=data['ADMIT'])\n",
        "plt.show()"
      ],
      "metadata": {
        "id": "MbUuaO0PhOM9",
        "colab": {
          "base_uri": "https://localhost:8080/",
          "height": 333
        },
        "outputId": "58513d89-47db-4496-80ad-11071bd45098"
      },
      "execution_count": 52,
      "outputs": [
        {
          "output_type": "display_data",
          "data": {
            "text/plain": [
              "<Figure size 576x360 with 1 Axes>"
            ],
            "image/png": "[encoded data removed]"
          },
          "metadata": {
            "image/png": {
              "width": 500,
              "height": 316
            },
            "needs_background": "light"
          }
        }
      ]
    },
    {
      "cell_type": "code",
      "source": [
        "# RANK 분포 시각화\n",
        "plt.figure(figsize=(8, 5))\n",
        "sns.countplot(x=data['RANK'])\n",
        "plt.show()"
      ],
      "metadata": {
        "id": "YcBtBkwGdB8a",
        "colab": {
          "base_uri": "https://localhost:8080/",
          "height": 333
        },
        "outputId": "528aa0fd-0e81-46fc-bb9e-1bf260424441"
      },
      "execution_count": 54,
      "outputs": [
        {
          "output_type": "display_data",
          "data": {
            "text/plain": [
              "<Figure size 576x360 with 1 Axes>"
            ],
            "image/png": "[encoded data removed]"
          },
          "metadata": {
            "image/png": {
              "width": 500,
              "height": 316
            },
            "needs_background": "light"
          }
        }
      ]
    },
    {
      "cell_type": "markdown",
      "metadata": {
        "id": "NOg15F91of90"
      },
      "source": [
        "### **3.데이터 준비**\n",
        "\n",
        "- **전처리** 과정을 통해 머신러닝 알고리즘에 사용할 수 있는 형태의 데이터를 준비합니다."
      ]
    },
    {
      "cell_type": "markdown",
      "metadata": {
        "id": "HVdCMjUuof90"
      },
      "source": [
        "<img src = \"https://github.com/Jangrae/img/blob/master/code_13.png?raw=true\" width=600 align=\"left\"/>"
      ]
    },
    {
      "cell_type": "markdown",
      "metadata": {
        "id": "crG3E69T4vcQ"
      },
      "source": [
        "**1) x, y 분리**\n",
        "\n",
        "- 우선 target 변수를 명확히 지정합니다.\n",
        "- target을 제외한 나머지 변수들 데이터는 x로 선언합니다.\n",
        "- target 변수 데이터는 y로 선언합니다. \n",
        "- 이 결과로 만들어진 x는 데이터프레임, y는 시리즈가 됩니다.\n",
        "- 이후 모든 작업은 x, y를 대상으로 진행합니다."
      ]
    },
    {
      "cell_type": "code",
      "execution_count": 55,
      "metadata": {
        "id": "6jA1DUE3of91"
      },
      "outputs": [],
      "source": [
        "# target 확인\n",
        "target = 'ADMIT'\n",
        "\n",
        "# 데이터 분리\n",
        "X = data.drop(target, axis=1)\n",
        "y = data.loc[:, target]"
      ]
    },
    {
      "cell_type": "markdown",
      "metadata": {
        "id": "RIoZCGM340qe"
      },
      "source": [
        "**2) 학습용, 평가용 데이터 분리**\n",
        "\n",
        "- 학습용, 평가용 데이터를 적절한 비율로 분리합니다.\n",
        "- Target 값, 즉 y의 값이 고르게 분포되도록 설정합니다.\n",
        "- 반복 실행 시 동일한 결과를 얻기 위해 random_state 옵션을 지정합니다."
      ]
    },
    {
      "cell_type": "code",
      "execution_count": 56,
      "metadata": {
        "id": "7bojX4h7of96",
        "colab": {
          "base_uri": "https://localhost:8080/"
        },
        "outputId": "97e4c3a3-4e5f-4e52-cfb4-6ceb24958e11"
      },
      "outputs": [
        {
          "output_type": "stream",
          "name": "stdout",
          "text": [
            "학습용: (375, 7) (375,)\n",
            "평가용: (125, 7) (125,)\n"
          ]
        }
      ],
      "source": [
        "# 함수 불러오기\n",
        "from sklearn.model_selection import train_test_split\n",
        "\n",
        "# 3:1로 분리\n",
        "X_train, X_test, y_train, y_test = train_test_split(X, y, test_size=0.25, stratify=y,  random_state=1) #stratify  옵션 알아두기\n",
        "\n",
        "# 확인\n",
        "print('학습용:', X_train.shape, y_train.shape)\n",
        "print('평가용:', X_test.shape, y_test.shape)"
      ]
    },
    {
      "cell_type": "markdown",
      "source": [
        "**3) One-Hot Encoding**\n",
        "\n",
        "- RANK 변수에 대한 원-핫 인코딩을 수행합니다.\n",
        "- 범주값 이지만 숫자형 변수이므로 One-Hot Encoding을 하지 않아도 오류는 발생하지 않습니다.\n",
        "- 꼭 One-Hot Encoding을 해야 하는 것은 아니지만, 다양한 시도를 해봐야 합니다."
      ],
      "metadata": {
        "id": "LN-OueSQdRNV"
      }
    },
    {
      "cell_type": "code",
      "source": [
        "# 패키지 설치\n",
        "!pip install category_encoders"
      ],
      "metadata": {
        "id": "0QrFSQ7kddIq",
        "colab": {
          "base_uri": "https://localhost:8080/"
        },
        "outputId": "ef20498e-9a8f-4f4a-ebf9-f9aa1dc018a6"
      },
      "execution_count": 57,
      "outputs": [
        {
          "output_type": "stream",
          "name": "stdout",
          "text": [
            "Looking in indexes: https://pypi.org/simple, https://us-python.pkg.dev/colab-wheels/public/simple/\n",
            "Collecting category_encoders\n",
            "  Downloading category_encoders-2.6.0-py2.py3-none-any.whl (81 kB)\n",
            "\u001b[2K     \u001b[90m━━━━━━━━━━━━━━━━━━━━━━━━━━━━━━━━━━━━━━━━\u001b[0m \u001b[32m81.2/81.2 KB\u001b[0m \u001b[31m5.2 MB/s\u001b[0m eta \u001b[36m0:00:00\u001b[0m\n",
            "\u001b[?25hRequirement already satisfied: scikit-learn>=0.20.0 in /usr/local/lib/python3.9/dist-packages (from category_encoders) (1.2.2)\n",
            "Requirement already satisfied: statsmodels>=0.9.0 in /usr/local/lib/python3.9/dist-packages (from category_encoders) (0.13.5)\n",
            "Requirement already satisfied: patsy>=0.5.1 in /usr/local/lib/python3.9/dist-packages (from category_encoders) (0.5.3)\n",
            "Requirement already satisfied: numpy>=1.14.0 in /usr/local/lib/python3.9/dist-packages (from category_encoders) (1.22.4)\n",
            "Requirement already satisfied: scipy>=1.0.0 in /usr/local/lib/python3.9/dist-packages (from category_encoders) (1.10.1)\n",
            "Requirement already satisfied: pandas>=1.0.5 in /usr/local/lib/python3.9/dist-packages (from category_encoders) (1.4.4)\n",
            "Requirement already satisfied: python-dateutil>=2.8.1 in /usr/local/lib/python3.9/dist-packages (from pandas>=1.0.5->category_encoders) (2.8.2)\n",
            "Requirement already satisfied: pytz>=2020.1 in /usr/local/lib/python3.9/dist-packages (from pandas>=1.0.5->category_encoders) (2022.7.1)\n",
            "Requirement already satisfied: six in /usr/local/lib/python3.9/dist-packages (from patsy>=0.5.1->category_encoders) (1.16.0)\n",
            "Requirement already satisfied: joblib>=1.1.1 in /usr/local/lib/python3.9/dist-packages (from scikit-learn>=0.20.0->category_encoders) (1.1.1)\n",
            "Requirement already satisfied: threadpoolctl>=2.0.0 in /usr/local/lib/python3.9/dist-packages (from scikit-learn>=0.20.0->category_encoders) (3.1.0)\n",
            "Requirement already satisfied: packaging>=21.3 in /usr/local/lib/python3.9/dist-packages (from statsmodels>=0.9.0->category_encoders) (23.0)\n",
            "Installing collected packages: category_encoders\n",
            "Successfully installed category_encoders-2.6.0\n"
          ]
        }
      ]
    },
    {
      "cell_type": "code",
      "source": [
        "# 함수 불러오기\n",
        "from category_encoders import OneHotEncoder\n",
        "\n",
        "encoder = OneHotEncoder(cols=['RANK'], use_cat_names=True) # cols 파라미터 안넣으면 모든 문자열에 대해서 진행, use_cat_names g확인\n",
        "X_train = encoder.fit_transform(X_train)\n",
        "X_test = encoder.transform(X_test)\n",
        "\n",
        "# 확인\n",
        "X_train.head()"
      ],
      "metadata": {
        "id": "yefDR346dZo9",
        "colab": {
          "base_uri": "https://localhost:8080/",
          "height": 206
        },
        "outputId": "6d471598-5161-41eb-bb0b-ffb03772886d"
      },
      "execution_count": 60,
      "outputs": [
        {
          "output_type": "execute_result",
          "data": {
            "text/plain": [
              "     GRE  TOEFL  RANK_5.0  RANK_1.0  RANK_3.0  RANK_2.0  RANK_4.0  SOP  LOR  \\\n",
              "362  338    115         1         0         0         0         0  4.5  5.0   \n",
              "160  315    103         0         1         0         0         0  1.5  2.0   \n",
              "116  299    102         0         0         1         0         0  4.0  3.5   \n",
              "7    308    101         0         0         0         1         0  3.0  4.0   \n",
              "198  311    104         0         0         1         0         0  4.5  4.5   \n",
              "\n",
              "      GPA  RESEARCH  \n",
              "362  9.23         1  \n",
              "160  7.86         0  \n",
              "116  8.62         0  \n",
              "7    7.90         0  \n",
              "198  8.43         0  "
            ],
            "text/html": [
              "\n",
              "  <div id=\"df-8abd0664-9210-4333-b129-89c4301d2674\">\n",
              "    <div class=\"colab-df-container\">\n",
              "      <div>\n",
              "<style scoped>\n",
              "    .dataframe tbody tr th:only-of-type {\n",
              "        vertical-align: middle;\n",
              "    }\n",
              "\n",
              "    .dataframe tbody tr th {\n",
              "        vertical-align: top;\n",
              "    }\n",
              "\n",
              "    .dataframe thead th {\n",
              "        text-align: right;\n",
              "    }\n",
              "</style>\n",
              "<table border=\"1\" class=\"dataframe\">\n",
              "  <thead>\n",
              "    <tr style=\"text-align: right;\">\n",
              "      <th></th>\n",
              "      <th>GRE</th>\n",
              "      <th>TOEFL</th>\n",
              "      <th>RANK_5.0</th>\n",
              "      <th>RANK_1.0</th>\n",
              "      <th>RANK_3.0</th>\n",
              "      <th>RANK_2.0</th>\n",
              "      <th>RANK_4.0</th>\n",
              "      <th>SOP</th>\n",
              "      <th>LOR</th>\n",
              "      <th>GPA</th>\n",
              "      <th>RESEARCH</th>\n",
              "    </tr>\n",
              "  </thead>\n",
              "  <tbody>\n",
              "    <tr>\n",
              "      <th>362</th>\n",
              "      <td>338</td>\n",
              "      <td>115</td>\n",
              "      <td>1</td>\n",
              "      <td>0</td>\n",
              "      <td>0</td>\n",
              "      <td>0</td>\n",
              "      <td>0</td>\n",
              "      <td>4.5</td>\n",
              "      <td>5.0</td>\n",
              "      <td>9.23</td>\n",
              "      <td>1</td>\n",
              "    </tr>\n",
              "    <tr>\n",
              "      <th>160</th>\n",
              "      <td>315</td>\n",
              "      <td>103</td>\n",
              "      <td>0</td>\n",
              "      <td>1</td>\n",
              "      <td>0</td>\n",
              "      <td>0</td>\n",
              "      <td>0</td>\n",
              "      <td>1.5</td>\n",
              "      <td>2.0</td>\n",
              "      <td>7.86</td>\n",
              "      <td>0</td>\n",
              "    </tr>\n",
              "    <tr>\n",
              "      <th>116</th>\n",
              "      <td>299</td>\n",
              "      <td>102</td>\n",
              "      <td>0</td>\n",
              "      <td>0</td>\n",
              "      <td>1</td>\n",
              "      <td>0</td>\n",
              "      <td>0</td>\n",
              "      <td>4.0</td>\n",
              "      <td>3.5</td>\n",
              "      <td>8.62</td>\n",
              "      <td>0</td>\n",
              "    </tr>\n",
              "    <tr>\n",
              "      <th>7</th>\n",
              "      <td>308</td>\n",
              "      <td>101</td>\n",
              "      <td>0</td>\n",
              "      <td>0</td>\n",
              "      <td>0</td>\n",
              "      <td>1</td>\n",
              "      <td>0</td>\n",
              "      <td>3.0</td>\n",
              "      <td>4.0</td>\n",
              "      <td>7.90</td>\n",
              "      <td>0</td>\n",
              "    </tr>\n",
              "    <tr>\n",
              "      <th>198</th>\n",
              "      <td>311</td>\n",
              "      <td>104</td>\n",
              "      <td>0</td>\n",
              "      <td>0</td>\n",
              "      <td>1</td>\n",
              "      <td>0</td>\n",
              "      <td>0</td>\n",
              "      <td>4.5</td>\n",
              "      <td>4.5</td>\n",
              "      <td>8.43</td>\n",
              "      <td>0</td>\n",
              "    </tr>\n",
              "  </tbody>\n",
              "</table>\n",
              "</div>\n",
              "      <button class=\"colab-df-convert\" onclick=\"convertToInteractive('df-8abd0664-9210-4333-b129-89c4301d2674')\"\n",
              "              title=\"Convert this dataframe to an interactive table.\"\n",
              "              style=\"display:none;\">\n",
              "        \n",
              "  <svg xmlns=\"http://www.w3.org/2000/svg\" height=\"24px\"viewBox=\"0 0 24 24\"\n",
              "       width=\"24px\">\n",
              "    <path d=\"M0 0h24v24H0V0z\" fill=\"none\"/>\n",
              "    <path d=\"M18.56 5.44l.94 2.06.94-2.06 2.06-.94-2.06-.94-.94-2.06-.94 2.06-2.06.94zm-11 1L8.5 8.5l.94-2.06 2.06-.94-2.06-.94L8.5 2.5l-.94 2.06-2.06.94zm10 10l.94 2.06.94-2.06 2.06-.94-2.06-.94-.94-2.06-.94 2.06-2.06.94z\"/><path d=\"M17.41 7.96l-1.37-1.37c-.4-.4-.92-.59-1.43-.59-.52 0-1.04.2-1.43.59L10.3 9.45l-7.72 7.72c-.78.78-.78 2.05 0 2.83L4 21.41c.39.39.9.59 1.41.59.51 0 1.02-.2 1.41-.59l7.78-7.78 2.81-2.81c.8-.78.8-2.07 0-2.86zM5.41 20L4 18.59l7.72-7.72 1.47 1.35L5.41 20z\"/>\n",
              "  </svg>\n",
              "      </button>\n",
              "      \n",
              "  <style>\n",
              "    .colab-df-container {\n",
              "      display:flex;\n",
              "      flex-wrap:wrap;\n",
              "      gap: 12px;\n",
              "    }\n",
              "\n",
              "    .colab-df-convert {\n",
              "      background-color: #E8F0FE;\n",
              "      border: none;\n",
              "      border-radius: 50%;\n",
              "      cursor: pointer;\n",
              "      display: none;\n",
              "      fill: #1967D2;\n",
              "      height: 32px;\n",
              "      padding: 0 0 0 0;\n",
              "      width: 32px;\n",
              "    }\n",
              "\n",
              "    .colab-df-convert:hover {\n",
              "      background-color: #E2EBFA;\n",
              "      box-shadow: 0px 1px 2px rgba(60, 64, 67, 0.3), 0px 1px 3px 1px rgba(60, 64, 67, 0.15);\n",
              "      fill: #174EA6;\n",
              "    }\n",
              "\n",
              "    [theme=dark] .colab-df-convert {\n",
              "      background-color: #3B4455;\n",
              "      fill: #D2E3FC;\n",
              "    }\n",
              "\n",
              "    [theme=dark] .colab-df-convert:hover {\n",
              "      background-color: #434B5C;\n",
              "      box-shadow: 0px 1px 3px 1px rgba(0, 0, 0, 0.15);\n",
              "      filter: drop-shadow(0px 1px 2px rgba(0, 0, 0, 0.3));\n",
              "      fill: #FFFFFF;\n",
              "    }\n",
              "  </style>\n",
              "\n",
              "      <script>\n",
              "        const buttonEl =\n",
              "          document.querySelector('#df-8abd0664-9210-4333-b129-89c4301d2674 button.colab-df-convert');\n",
              "        buttonEl.style.display =\n",
              "          google.colab.kernel.accessAllowed ? 'block' : 'none';\n",
              "\n",
              "        async function convertToInteractive(key) {\n",
              "          const element = document.querySelector('#df-8abd0664-9210-4333-b129-89c4301d2674');\n",
              "          const dataTable =\n",
              "            await google.colab.kernel.invokeFunction('convertToInteractive',\n",
              "                                                     [key], {});\n",
              "          if (!dataTable) return;\n",
              "\n",
              "          const docLinkHtml = 'Like what you see? Visit the ' +\n",
              "            '<a target=\"_blank\" href=https://colab.research.google.com/notebooks/data_table.ipynb>data table notebook</a>'\n",
              "            + ' to learn more about interactive tables.';\n",
              "          element.innerHTML = '';\n",
              "          dataTable['output_type'] = 'display_data';\n",
              "          await google.colab.output.renderOutput(dataTable, element);\n",
              "          const docLink = document.createElement('div');\n",
              "          docLink.innerHTML = docLinkHtml;\n",
              "          element.appendChild(docLink);\n",
              "        }\n",
              "      </script>\n",
              "    </div>\n",
              "  </div>\n",
              "  "
            ]
          },
          "metadata": {},
          "execution_count": 60
        }
      ]
    },
    {
      "cell_type": "markdown",
      "metadata": {
        "id": "6qAmkJ9pof96"
      },
      "source": [
        "### **4.모델링**\n",
        "\n",
        "- 본격적으로 모델을 **선언**하고 **학습**하고 **평가**하는 과정을 진행합니다.\n",
        "- 우선 **회귀** 문제인지 **분류** 문제인지 명확히 구분합니다."
      ]
    },
    {
      "cell_type": "markdown",
      "metadata": {
        "id": "prSer1P9of97"
      },
      "source": [
        "<img src = \"https://github.com/Jangrae/img/blob/master/code_14.png?raw=true\" width=600 align=\"left\"/>"
      ]
    },
    {
      "cell_type": "markdown",
      "metadata": {
        "id": "J32sS9zLQAF1"
      },
      "source": [
        "- 회귀 문제 인가요? 분류 문제인가요?\n",
        "- 회귀인지 분류인지에 따라 사용할 알고리즘과 평가 방법이 달라집니다.\n",
        "- 사용할 알고리즘을 정하고 모델링을 진행합니다."
      ]
    },
    {
      "cell_type": "markdown",
      "source": [
        "**참고: Sigmoid 함수**\n",
        "\n",
        "$$ \\huge \\frac{1}{1-e^{-f(x)}}  $$"
      ],
      "metadata": {
        "id": "Khr-6Wb8j-mw"
      }
    },
    {
      "cell_type": "markdown",
      "source": [
        "**모델링 과정**\n",
        "\n",
        "<img src = \"https://github.com/Jangrae/img/blob/master/modeling.png?raw=true\" width=600 align=\"left\"/>"
      ],
      "metadata": {
        "id": "JrqAzXwVoovP"
      }
    },
    {
      "cell_type": "code",
      "execution_count": 61,
      "metadata": {
        "id": "nmXyprBM0s5d"
      },
      "outputs": [],
      "source": [
        "# 1단계: 불러오기\n",
        "from sklearn.linear_model import LogisticRegression"
      ]
    },
    {
      "cell_type": "code",
      "execution_count": 62,
      "metadata": {
        "id": "F86ceytk0s5e"
      },
      "outputs": [],
      "source": [
        "# 2단계: 선언하기\n",
        "model = LogisticRegression()"
      ]
    },
    {
      "cell_type": "code",
      "execution_count": 63,
      "metadata": {
        "id": "030l_rcP0s5e",
        "colab": {
          "base_uri": "https://localhost:8080/",
          "height": 75
        },
        "outputId": "d4697aac-6997-4429-dcde-8258f546ab29"
      },
      "outputs": [
        {
          "output_type": "execute_result",
          "data": {
            "text/plain": [
              "LogisticRegression()"
            ],
            "text/html": [
              "<style>#sk-container-id-2 {color: black;background-color: white;}#sk-container-id-2 pre{padding: 0;}#sk-container-id-2 div.sk-toggleable {background-color: white;}#sk-container-id-2 label.sk-toggleable__label {cursor: pointer;display: block;width: 100%;margin-bottom: 0;padding: 0.3em;box-sizing: border-box;text-align: center;}#sk-container-id-2 label.sk-toggleable__label-arrow:before {content: \"▸\";float: left;margin-right: 0.25em;color: #696969;}#sk-container-id-2 label.sk-toggleable__label-arrow:hover:before {color: black;}#sk-container-id-2 div.sk-estimator:hover label.sk-toggleable__label-arrow:before {color: black;}#sk-container-id-2 div.sk-toggleable__content {max-height: 0;max-width: 0;overflow: hidden;text-align: left;background-color: #f0f8ff;}#sk-container-id-2 div.sk-toggleable__content pre {margin: 0.2em;color: black;border-radius: 0.25em;background-color: #f0f8ff;}#sk-container-id-2 input.sk-toggleable__control:checked~div.sk-toggleable__content {max-height: 200px;max-width: 100%;overflow: auto;}#sk-container-id-2 input.sk-toggleable__control:checked~label.sk-toggleable__label-arrow:before {content: \"▾\";}#sk-container-id-2 div.sk-estimator input.sk-toggleable__control:checked~label.sk-toggleable__label {background-color: #d4ebff;}#sk-container-id-2 div.sk-label input.sk-toggleable__control:checked~label.sk-toggleable__label {background-color: #d4ebff;}#sk-container-id-2 input.sk-hidden--visually {border: 0;clip: rect(1px 1px 1px 1px);clip: rect(1px, 1px, 1px, 1px);height: 1px;margin: -1px;overflow: hidden;padding: 0;position: absolute;width: 1px;}#sk-container-id-2 div.sk-estimator {font-family: monospace;background-color: #f0f8ff;border: 1px dotted black;border-radius: 0.25em;box-sizing: border-box;margin-bottom: 0.5em;}#sk-container-id-2 div.sk-estimator:hover {background-color: #d4ebff;}#sk-container-id-2 div.sk-parallel-item::after {content: \"\";width: 100%;border-bottom: 1px solid gray;flex-grow: 1;}#sk-container-id-2 div.sk-label:hover label.sk-toggleable__label {background-color: #d4ebff;}#sk-container-id-2 div.sk-serial::before {content: \"\";position: absolute;border-left: 1px solid gray;box-sizing: border-box;top: 0;bottom: 0;left: 50%;z-index: 0;}#sk-container-id-2 div.sk-serial {display: flex;flex-direction: column;align-items: center;background-color: white;padding-right: 0.2em;padding-left: 0.2em;position: relative;}#sk-container-id-2 div.sk-item {position: relative;z-index: 1;}#sk-container-id-2 div.sk-parallel {display: flex;align-items: stretch;justify-content: center;background-color: white;position: relative;}#sk-container-id-2 div.sk-item::before, #sk-container-id-2 div.sk-parallel-item::before {content: \"\";position: absolute;border-left: 1px solid gray;box-sizing: border-box;top: 0;bottom: 0;left: 50%;z-index: -1;}#sk-container-id-2 div.sk-parallel-item {display: flex;flex-direction: column;z-index: 1;position: relative;background-color: white;}#sk-container-id-2 div.sk-parallel-item:first-child::after {align-self: flex-end;width: 50%;}#sk-container-id-2 div.sk-parallel-item:last-child::after {align-self: flex-start;width: 50%;}#sk-container-id-2 div.sk-parallel-item:only-child::after {width: 0;}#sk-container-id-2 div.sk-dashed-wrapped {border: 1px dashed gray;margin: 0 0.4em 0.5em 0.4em;box-sizing: border-box;padding-bottom: 0.4em;background-color: white;}#sk-container-id-2 div.sk-label label {font-family: monospace;font-weight: bold;display: inline-block;line-height: 1.2em;}#sk-container-id-2 div.sk-label-container {text-align: center;}#sk-container-id-2 div.sk-container {/* jupyter's `normalize.less` sets `[hidden] { display: none; }` but bootstrap.min.css set `[hidden] { display: none !important; }` so we also need the `!important` here to be able to override the default hidden behavior on the sphinx rendered scikit-learn.org. See: https://github.com/scikit-learn/scikit-learn/issues/21755 */display: inline-block !important;position: relative;}#sk-container-id-2 div.sk-text-repr-fallback {display: none;}</style><div id=\"sk-container-id-2\" class=\"sk-top-container\"><div class=\"sk-text-repr-fallback\"><pre>LogisticRegression()</pre><b>In a Jupyter environment, please rerun this cell to show the HTML representation or trust the notebook. <br />On GitHub, the HTML representation is unable to render, please try loading this page with nbviewer.org.</b></div><div class=\"sk-container\" hidden><div class=\"sk-item\"><div class=\"sk-estimator sk-toggleable\"><input class=\"sk-toggleable__control sk-hidden--visually\" id=\"sk-estimator-id-2\" type=\"checkbox\" checked><label for=\"sk-estimator-id-2\" class=\"sk-toggleable__label sk-toggleable__label-arrow\">LogisticRegression</label><div class=\"sk-toggleable__content\"><pre>LogisticRegression()</pre></div></div></div></div></div>"
            ]
          },
          "metadata": {},
          "execution_count": 63
        }
      ],
      "source": [
        "# 3단계: 학습하기\n",
        "model.fit(X_train, y_train)"
      ]
    },
    {
      "cell_type": "code",
      "execution_count": 64,
      "metadata": {
        "id": "jRlbhyma0s5e"
      },
      "outputs": [],
      "source": [
        "# 4단계: 예측하기\n",
        "y_pred = model.predict(X_test)"
      ]
    },
    {
      "cell_type": "code",
      "source": [
        "# 실젯값, 예측값 비교\n",
        "print(y_test.values[:10])\n",
        "print(y_pred[:10])"
      ],
      "metadata": {
        "id": "9BPbPxLbiZf6",
        "colab": {
          "base_uri": "https://localhost:8080/"
        },
        "outputId": "f28466de-42f9-42ce-f5f1-8f84077fa7d7"
      },
      "execution_count": 65,
      "outputs": [
        {
          "output_type": "stream",
          "name": "stdout",
          "text": [
            "[0 0 1 0 1 0 0 1 1 0]\n",
            "[0 1 0 0 1 0 0 1 1 0]\n"
          ]
        }
      ]
    },
    {
      "cell_type": "code",
      "source": [
        "# 확률값 확인\n",
        "y_prob = model.predict_proba(X_test)\n",
        "y_prob[:10]"
      ],
      "metadata": {
        "id": "IQrgEnBMiHXl",
        "colab": {
          "base_uri": "https://localhost:8080/"
        },
        "outputId": "e7d37dc5-0f92-40dc-b25a-9b1d9ae7f884"
      },
      "execution_count": 66,
      "outputs": [
        {
          "output_type": "execute_result",
          "data": {
            "text/plain": [
              "array([[0.97421352, 0.02578648],\n",
              "       [0.46036816, 0.53963184],\n",
              "       [0.58327216, 0.41672784],\n",
              "       [0.9809414 , 0.0190586 ],\n",
              "       [0.00752256, 0.99247744],\n",
              "       [0.95368331, 0.04631669],\n",
              "       [0.61541726, 0.38458274],\n",
              "       [0.15469869, 0.84530131],\n",
              "       [0.43893163, 0.56106837],\n",
              "       [0.77063175, 0.22936825]])"
            ]
          },
          "metadata": {},
          "execution_count": 66
        }
      ]
    },
    {
      "cell_type": "code",
      "source": [
        "# 확률값 시각화\n",
        "y_prob = y_prob[:, 1]\n",
        "y_prob.sort()\n",
        "plt.plot(y_prob)\n",
        "plt.axhline(0.5, color='r')\n",
        "plt.show()"
      ],
      "metadata": {
        "id": "nuHIru5qiWOM",
        "colab": {
          "base_uri": "https://localhost:8080/",
          "height": 265
        },
        "outputId": "dd49f3ca-1e8e-4076-a407-4c8a23a1d4da"
      },
      "execution_count": 67,
      "outputs": [
        {
          "output_type": "display_data",
          "data": {
            "text/plain": [
              "<Figure size 432x288 with 1 Axes>"
            ],
            "image/png": "[encoded data removed]"
          },
          "metadata": {
            "image/png": {
              "width": 372,
              "height": 248
            },
            "needs_background": "light"
          }
        }
      ]
    },
    {
      "cell_type": "markdown",
      "metadata": {
        "id": "uMnv2bcu2DF7"
      },
      "source": [
        "### **5.성능 평가**\n",
        "\n",
        "- 다양한 성능 지표로 분류 모델 성능을 평가합니다."
      ]
    },
    {
      "cell_type": "markdown",
      "metadata": {
        "id": "k3s96KFx23gF"
      },
      "source": [
        "**1) Confusion Matrix**"
      ]
    },
    {
      "cell_type": "code",
      "execution_count": 68,
      "metadata": {
        "id": "-3x1euJM2VH_",
        "colab": {
          "base_uri": "https://localhost:8080/"
        },
        "outputId": "40ef8bdc-ad56-498d-d325-7d26121a6bcb"
      },
      "outputs": [
        {
          "output_type": "stream",
          "name": "stdout",
          "text": [
            "[[61 10]\n",
            " [10 44]]\n"
          ]
        }
      ],
      "source": [
        "# 함수 불러오기\n",
        "from sklearn.metrics import confusion_matrix\n",
        "\n",
        "# 성능 평가\n",
        "print(confusion_matrix(y_test, y_pred))"
      ]
    },
    {
      "cell_type": "code",
      "execution_count": 80,
      "metadata": {
        "id": "Uu_wxX74woSG",
        "colab": {
          "base_uri": "https://localhost:8080/",
          "height": 333
        },
        "outputId": "c7263f7d-70b5-400f-8cf2-56abe3d4f8b2"
      },
      "outputs": [
        {
          "output_type": "display_data",
          "data": {
            "text/plain": [
              "<Figure size 576x360 with 1 Axes>"
            ],
            "image/png": "[encoded data removed]"
          },
          "metadata": {
            "image/png": {
              "width": 490,
              "height": 316
            },
            "needs_background": "light"
          }
        }
      ],
      "source": [
        "# 혼동행렬 시각화\n",
        "plt.figure(figsize=(8, 5))\n",
        "sns.heatmap(confusion_matrix(y_test, y_pred),\n",
        "            annot=True, \n",
        "            cmap='Blues',\n",
        "            cbar=False,\n",
        "            linecolor='k',\n",
        "            linewidths=0.8,\n",
        "            xticklabels=['0(Fail)', '1{Pass)'],\n",
        "            yticklabels=['0(Fail)', '1{Pass)'],\n",
        "            annot_kws={'size': 15})\n",
        "plt.xlabel('Predicted')\n",
        "plt.ylabel('Actual')\n",
        "plt.show()"
      ]
    },
    {
      "cell_type": "markdown",
      "metadata": {
        "id": "JUCRqABK28Jr"
      },
      "source": [
        "**2) Accuracy**\n",
        "\n",
        "$$\\large Accuracy = \\frac{TP+TN}{TP+TN+FP+FN}$$"
      ]
    },
    {
      "cell_type": "code",
      "execution_count": 70,
      "metadata": {
        "id": "HcgvkOBu2ovI",
        "colab": {
          "base_uri": "https://localhost:8080/"
        },
        "outputId": "4358ec5f-b67a-4ff0-8cfd-7d5f57b3368b"
      },
      "outputs": [
        {
          "output_type": "stream",
          "name": "stdout",
          "text": [
            "Accuracy: 0.84\n"
          ]
        }
      ],
      "source": [
        "# 함수 불러오기\n",
        "from sklearn.metrics import accuracy_score\n",
        "\n",
        "# 성능 평가\n",
        "print('Accuracy:', accuracy_score(y_test, y_pred))"
      ]
    },
    {
      "cell_type": "markdown",
      "metadata": {
        "id": "J7LM_WMuy6-8"
      },
      "source": [
        "- accuracy_score() 함수 대신에 **score()** 메소드를 사용할 수 있습니다.\n",
        "- 단 전달하는 값이 y_test, y_pred이 아닌 X_test, y_test 입니다."
      ]
    },
    {
      "cell_type": "code",
      "execution_count": 72,
      "metadata": {
        "id": "nFkhSQnOy6-8",
        "colab": {
          "base_uri": "https://localhost:8080/"
        },
        "outputId": "e4208763-d277-4646-c3e8-72ca851b3493"
      },
      "outputs": [
        {
          "output_type": "stream",
          "name": "stdout",
          "text": [
            "Score: 0.84\n"
          ]
        }
      ],
      "source": [
        "# 성능 평가\n",
        "print('Score:', model.score(X_test, y_test))"
      ]
    },
    {
      "cell_type": "markdown",
      "metadata": {
        "id": "7YRAi3rV3uwv"
      },
      "source": [
        "**3) Precision**\n",
        "\n",
        "$$\\large Precision = \\frac{TP}{TP+FP}$$"
      ]
    },
    {
      "cell_type": "code",
      "execution_count": 73,
      "metadata": {
        "id": "YK8j5g1s3V0m",
        "colab": {
          "base_uri": "https://localhost:8080/"
        },
        "outputId": "ca9221c4-a2fd-43de-b2ce-72bd1551cf78"
      },
      "outputs": [
        {
          "output_type": "stream",
          "name": "stdout",
          "text": [
            "Precision: [0.85915493 0.81481481]\n"
          ]
        }
      ],
      "source": [
        "# 함수 불러오기\n",
        "from sklearn.metrics import precision_score\n",
        "\n",
        "# 성능 평가\n",
        "print('Precision:', precision_score(y_test, y_pred, average=None)) #average에 다양한 옵션이 들어간다"
      ]
    },
    {
      "cell_type": "markdown",
      "metadata": {
        "id": "RYImEJal3xsb"
      },
      "source": [
        "**4) Recall**\n",
        "\n",
        "$$\\large Recall = \\frac{TP}{TP+FN}$$"
      ]
    },
    {
      "cell_type": "code",
      "execution_count": 74,
      "metadata": {
        "id": "y5EXWw7B3xsc",
        "colab": {
          "base_uri": "https://localhost:8080/"
        },
        "outputId": "98f6481d-a405-47e6-a34b-9a7a9ea85bb1"
      },
      "outputs": [
        {
          "output_type": "stream",
          "name": "stdout",
          "text": [
            "Recall: [0.85915493 0.81481481]\n"
          ]
        }
      ],
      "source": [
        "# 함수 불러오기\n",
        "from sklearn.metrics import recall_score\n",
        "\n",
        "# 성능 평가\n",
        "print('Recall:', recall_score(y_test, y_pred, average=None))"
      ]
    },
    {
      "cell_type": "markdown",
      "metadata": {
        "id": "srDyRIxy39Za"
      },
      "source": [
        "**5) F1-Score**\n",
        "\n",
        "$$\\large F1 = \\frac{2\\times Precision\\times Recall}{Precision+Recall}$$"
      ]
    },
    {
      "cell_type": "code",
      "execution_count": 75,
      "metadata": {
        "id": "yvhFtpE739Zb",
        "colab": {
          "base_uri": "https://localhost:8080/"
        },
        "outputId": "6a1295f6-9ddf-4295-99d4-c67cdc6e060f"
      },
      "outputs": [
        {
          "output_type": "stream",
          "name": "stdout",
          "text": [
            "F1-Score: [0.85915493 0.81481481]\n"
          ]
        }
      ],
      "source": [
        "# 함수 불러오기\n",
        "from sklearn.metrics import f1_score\n",
        "\n",
        "# 성능 평가\n",
        "print('F1-Score:', f1_score(y_test, y_pred, average=None))"
      ]
    },
    {
      "cell_type": "markdown",
      "metadata": {
        "id": "jp-_3s4t2_fH"
      },
      "source": [
        "**6) Classification Report**"
      ]
    },
    {
      "cell_type": "code",
      "execution_count": 76,
      "metadata": {
        "id": "tYw6ni480__X",
        "colab": {
          "base_uri": "https://localhost:8080/"
        },
        "outputId": "16a7a52d-e866-46ba-e82e-024096718c7c"
      },
      "outputs": [
        {
          "output_type": "stream",
          "name": "stdout",
          "text": [
            "              precision    recall  f1-score   support\n",
            "\n",
            "           0       0.86      0.86      0.86        71\n",
            "           1       0.81      0.81      0.81        54\n",
            "\n",
            "    accuracy                           0.84       125\n",
            "   macro avg       0.84      0.84      0.84       125\n",
            "weighted avg       0.84      0.84      0.84       125\n",
            "\n"
          ]
        }
      ],
      "source": [
        "# 함수 불러오기\n",
        "from sklearn.metrics import classification_report\n",
        "\n",
        "# 성능 평가\n",
        "print(classification_report(y_test, y_pred))"
      ]
    },
    {
      "cell_type": "markdown",
      "source": [
        "**참고: 임계값(Threshold) 조정**\n",
        "\n",
        "- 기본값이 0.5인 임계값을 조절해서 모델의 성능을 변화시킬 수 있습니다.\n",
        "- 이를 통해 정밀도를 낮춰서라도 재현율(=민감도)를 높일 수도 있습니다.\n",
        "- 학습 데이터를 사용해 모델의 성능이 변함을 확인합니다."
      ],
      "metadata": {
        "id": "Af-yL-RAlh48"
      }
    },
    {
      "cell_type": "code",
      "source": [
        "# 임계값 조정\n",
        "threshold = 0.4\n",
        "y_prob = model.predict_proba(X_train)[:, 1]  # 1에 대한 확률값\n",
        "y_pred2 = y_prob >= threshold\n",
        "print(classification_report(y_train, y_pred2))"
      ],
      "metadata": {
        "id": "cz871Qkcj23O",
        "colab": {
          "base_uri": "https://localhost:8080/"
        },
        "outputId": "dbcce412-4482-4ca9-caab-d82d7456ccc2"
      },
      "execution_count": 77,
      "outputs": [
        {
          "output_type": "stream",
          "name": "stdout",
          "text": [
            "              precision    recall  f1-score   support\n",
            "\n",
            "           0       0.91      0.84      0.87       211\n",
            "           1       0.81      0.89      0.85       164\n",
            "\n",
            "    accuracy                           0.86       375\n",
            "   macro avg       0.86      0.86      0.86       375\n",
            "weighted avg       0.87      0.86      0.86       375\n",
            "\n"
          ]
        }
      ]
    },
    {
      "cell_type": "markdown",
      "source": [
        "### **6.마무리**\n",
        "\n",
        "- 맨 먼저 **회귀문제**인지 **분류문제**인지 확인합니다.\n",
        "- 그리고 사용할 **알고리즘**과 **평가지표**를 결정합니다.\n",
        "- 모델이 언제 **복잡**해지고 **과적합**이 발생하는지 알아야 합니다.\n",
        "- 그리고 과적합 문제를 해결하는 방법을 알아야 합니다.\n",
        "- **과적합 해결** 방법은 사용한 알고리즘에 따라 다릅니다.\n",
        "- <font color='red'>**많은 경험**</font>은 아직 갖출 수 없지만, <font color='blue'>**많은 시도**</font>는 할 수 있습니다."
      ],
      "metadata": {
        "id": "cQvk0v9xpAac"
      }
    }
  ],
  "metadata": {
    "colab": {
      "provenance": [],
      "include_colab_link": true
    },
    "kernelspec": {
      "display_name": "Python 3 (ipykernel)",
      "language": "python",
      "name": "python3"
    },
    "language_info": {
      "codemirror_mode": {
        "name": "ipython",
        "version": 3
      },
      "file_extension": ".py",
      "mimetype": "text/x-python",
      "name": "python",
      "nbconvert_exporter": "python",
      "pygments_lexer": "ipython3",
      "version": "3.9.13"
    }
  },
  "nbformat": 4,
  "nbformat_minor": 0
}